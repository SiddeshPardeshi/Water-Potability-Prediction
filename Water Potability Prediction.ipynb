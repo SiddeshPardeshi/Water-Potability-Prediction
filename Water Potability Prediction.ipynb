{
 "cells": [
  {
   "cell_type": "code",
   "execution_count": 98,
   "id": "f6609d10",
   "metadata": {},
   "outputs": [],
   "source": [
    "import pandas as pd\n",
    "import numpy as np\n",
    "import seaborn as sns\n",
    "import matplotlib.pyplot as plt\n",
    "import warnings\n",
    "warnings.filterwarnings(\"ignore\")\n",
    "\n",
    "from sklearn.metrics import accuracy_score, classification_report, confusion_matrix"
   ]
  },
  {
   "cell_type": "code",
   "execution_count": 99,
   "id": "2143e68c",
   "metadata": {},
   "outputs": [],
   "source": [
    "train_df = pd.read_csv('train_data.csv')\n",
    "test_df = pd.read_csv('test_data.csv')"
   ]
  },
  {
   "cell_type": "code",
   "execution_count": 100,
   "id": "c8cf0beb",
   "metadata": {},
   "outputs": [
    {
     "data": {
      "text/html": [
       "<div>\n",
       "<style scoped>\n",
       "    .dataframe tbody tr th:only-of-type {\n",
       "        vertical-align: middle;\n",
       "    }\n",
       "\n",
       "    .dataframe tbody tr th {\n",
       "        vertical-align: top;\n",
       "    }\n",
       "\n",
       "    .dataframe thead th {\n",
       "        text-align: right;\n",
       "    }\n",
       "</style>\n",
       "<table border=\"1\" class=\"dataframe\">\n",
       "  <thead>\n",
       "    <tr style=\"text-align: right;\">\n",
       "      <th></th>\n",
       "      <th>ph</th>\n",
       "      <th>Hardness</th>\n",
       "      <th>Solids</th>\n",
       "      <th>Chloramines</th>\n",
       "      <th>Sulfate</th>\n",
       "      <th>Conductivity</th>\n",
       "      <th>Organic_carbon</th>\n",
       "      <th>Trihalomethanes</th>\n",
       "      <th>Turbidity</th>\n",
       "      <th>ID</th>\n",
       "      <th>Potability</th>\n",
       "    </tr>\n",
       "  </thead>\n",
       "  <tbody>\n",
       "    <tr>\n",
       "      <th>0</th>\n",
       "      <td>NaN</td>\n",
       "      <td>202.569467</td>\n",
       "      <td>22256.950365</td>\n",
       "      <td>6.913501</td>\n",
       "      <td>304.951498</td>\n",
       "      <td>434.198436</td>\n",
       "      <td>13.696893</td>\n",
       "      <td>64.205667</td>\n",
       "      <td>4.478070</td>\n",
       "      <td>2500</td>\n",
       "      <td>0</td>\n",
       "    </tr>\n",
       "    <tr>\n",
       "      <th>1</th>\n",
       "      <td>5.319769</td>\n",
       "      <td>204.202072</td>\n",
       "      <td>22390.795566</td>\n",
       "      <td>8.053559</td>\n",
       "      <td>315.027505</td>\n",
       "      <td>399.119025</td>\n",
       "      <td>13.974085</td>\n",
       "      <td>83.157997</td>\n",
       "      <td>2.925732</td>\n",
       "      <td>1044</td>\n",
       "      <td>0</td>\n",
       "    </tr>\n",
       "    <tr>\n",
       "      <th>2</th>\n",
       "      <td>7.350379</td>\n",
       "      <td>193.633367</td>\n",
       "      <td>26736.085567</td>\n",
       "      <td>10.416589</td>\n",
       "      <td>309.416883</td>\n",
       "      <td>557.495685</td>\n",
       "      <td>16.519722</td>\n",
       "      <td>61.077383</td>\n",
       "      <td>3.663922</td>\n",
       "      <td>415</td>\n",
       "      <td>0</td>\n",
       "    </tr>\n",
       "    <tr>\n",
       "      <th>3</th>\n",
       "      <td>7.612517</td>\n",
       "      <td>225.492793</td>\n",
       "      <td>14812.970645</td>\n",
       "      <td>7.982595</td>\n",
       "      <td>356.690174</td>\n",
       "      <td>341.074925</td>\n",
       "      <td>14.994662</td>\n",
       "      <td>55.893916</td>\n",
       "      <td>2.939593</td>\n",
       "      <td>2841</td>\n",
       "      <td>1</td>\n",
       "    </tr>\n",
       "    <tr>\n",
       "      <th>4</th>\n",
       "      <td>7.122637</td>\n",
       "      <td>183.402648</td>\n",
       "      <td>31295.902410</td>\n",
       "      <td>4.425026</td>\n",
       "      <td>NaN</td>\n",
       "      <td>411.616070</td>\n",
       "      <td>14.066057</td>\n",
       "      <td>77.185792</td>\n",
       "      <td>3.750447</td>\n",
       "      <td>2567</td>\n",
       "      <td>0</td>\n",
       "    </tr>\n",
       "  </tbody>\n",
       "</table>\n",
       "</div>"
      ],
      "text/plain": [
       "         ph    Hardness        Solids  Chloramines     Sulfate  Conductivity  \\\n",
       "0       NaN  202.569467  22256.950365     6.913501  304.951498    434.198436   \n",
       "1  5.319769  204.202072  22390.795566     8.053559  315.027505    399.119025   \n",
       "2  7.350379  193.633367  26736.085567    10.416589  309.416883    557.495685   \n",
       "3  7.612517  225.492793  14812.970645     7.982595  356.690174    341.074925   \n",
       "4  7.122637  183.402648  31295.902410     4.425026         NaN    411.616070   \n",
       "\n",
       "   Organic_carbon  Trihalomethanes  Turbidity    ID  Potability  \n",
       "0       13.696893        64.205667   4.478070  2500           0  \n",
       "1       13.974085        83.157997   2.925732  1044           0  \n",
       "2       16.519722        61.077383   3.663922   415           0  \n",
       "3       14.994662        55.893916   2.939593  2841           1  \n",
       "4       14.066057        77.185792   3.750447  2567           0  "
      ]
     },
     "execution_count": 100,
     "metadata": {},
     "output_type": "execute_result"
    }
   ],
   "source": [
    "train_df.head()"
   ]
  },
  {
   "cell_type": "markdown",
   "id": "0776984b",
   "metadata": {},
   "source": [
    "**Data Information,description and handling missing values:**"
   ]
  },
  {
   "cell_type": "code",
   "execution_count": 101,
   "id": "19450069",
   "metadata": {},
   "outputs": [
    {
     "name": "stdout",
     "output_type": "stream",
     "text": [
      "<class 'pandas.core.frame.DataFrame'>\n",
      "RangeIndex: 2457 entries, 0 to 2456\n",
      "Data columns (total 11 columns):\n",
      " #   Column           Non-Null Count  Dtype  \n",
      "---  ------           --------------  -----  \n",
      " 0   ph               2085 non-null   float64\n",
      " 1   Hardness         2457 non-null   float64\n",
      " 2   Solids           2457 non-null   float64\n",
      " 3   Chloramines      2457 non-null   float64\n",
      " 4   Sulfate          1856 non-null   float64\n",
      " 5   Conductivity     2457 non-null   float64\n",
      " 6   Organic_carbon   2457 non-null   float64\n",
      " 7   Trihalomethanes  2339 non-null   float64\n",
      " 8   Turbidity        2457 non-null   float64\n",
      " 9   ID               2457 non-null   int64  \n",
      " 10  Potability       2457 non-null   int64  \n",
      "dtypes: float64(9), int64(2)\n",
      "memory usage: 211.3 KB\n"
     ]
    }
   ],
   "source": [
    "train_df.info()"
   ]
  },
  {
   "cell_type": "code",
   "execution_count": 102,
   "id": "90c387e8",
   "metadata": {},
   "outputs": [
    {
     "data": {
      "text/html": [
       "<div>\n",
       "<style scoped>\n",
       "    .dataframe tbody tr th:only-of-type {\n",
       "        vertical-align: middle;\n",
       "    }\n",
       "\n",
       "    .dataframe tbody tr th {\n",
       "        vertical-align: top;\n",
       "    }\n",
       "\n",
       "    .dataframe thead th {\n",
       "        text-align: right;\n",
       "    }\n",
       "</style>\n",
       "<table border=\"1\" class=\"dataframe\">\n",
       "  <thead>\n",
       "    <tr style=\"text-align: right;\">\n",
       "      <th></th>\n",
       "      <th>ph</th>\n",
       "      <th>Hardness</th>\n",
       "      <th>Solids</th>\n",
       "      <th>Chloramines</th>\n",
       "      <th>Sulfate</th>\n",
       "      <th>Conductivity</th>\n",
       "      <th>Organic_carbon</th>\n",
       "      <th>Trihalomethanes</th>\n",
       "      <th>Turbidity</th>\n",
       "      <th>ID</th>\n",
       "      <th>Potability</th>\n",
       "    </tr>\n",
       "  </thead>\n",
       "  <tbody>\n",
       "    <tr>\n",
       "      <th>count</th>\n",
       "      <td>2085.000000</td>\n",
       "      <td>2457.000000</td>\n",
       "      <td>2457.000000</td>\n",
       "      <td>2457.000000</td>\n",
       "      <td>1856.000000</td>\n",
       "      <td>2457.000000</td>\n",
       "      <td>2457.000000</td>\n",
       "      <td>2339.000000</td>\n",
       "      <td>2457.000000</td>\n",
       "      <td>2457.000000</td>\n",
       "      <td>2457.000000</td>\n",
       "    </tr>\n",
       "    <tr>\n",
       "      <th>mean</th>\n",
       "      <td>7.091132</td>\n",
       "      <td>196.574669</td>\n",
       "      <td>22067.550859</td>\n",
       "      <td>7.115832</td>\n",
       "      <td>333.900498</td>\n",
       "      <td>426.557199</td>\n",
       "      <td>14.257422</td>\n",
       "      <td>66.462192</td>\n",
       "      <td>3.954781</td>\n",
       "      <td>1657.868132</td>\n",
       "      <td>0.394383</td>\n",
       "    </tr>\n",
       "    <tr>\n",
       "      <th>std</th>\n",
       "      <td>1.585194</td>\n",
       "      <td>32.837192</td>\n",
       "      <td>8857.439364</td>\n",
       "      <td>1.572847</td>\n",
       "      <td>41.415814</td>\n",
       "      <td>81.572020</td>\n",
       "      <td>3.285923</td>\n",
       "      <td>16.291432</td>\n",
       "      <td>0.775821</td>\n",
       "      <td>935.004181</td>\n",
       "      <td>0.488817</td>\n",
       "    </tr>\n",
       "    <tr>\n",
       "      <th>min</th>\n",
       "      <td>0.000000</td>\n",
       "      <td>73.492234</td>\n",
       "      <td>728.750830</td>\n",
       "      <td>0.352000</td>\n",
       "      <td>129.000000</td>\n",
       "      <td>181.483754</td>\n",
       "      <td>4.371899</td>\n",
       "      <td>8.175876</td>\n",
       "      <td>1.492207</td>\n",
       "      <td>1.000000</td>\n",
       "      <td>0.000000</td>\n",
       "    </tr>\n",
       "    <tr>\n",
       "      <th>25%</th>\n",
       "      <td>6.102533</td>\n",
       "      <td>176.772186</td>\n",
       "      <td>15736.580986</td>\n",
       "      <td>6.112819</td>\n",
       "      <td>307.738158</td>\n",
       "      <td>365.720292</td>\n",
       "      <td>12.031863</td>\n",
       "      <td>55.724326</td>\n",
       "      <td>3.434799</td>\n",
       "      <td>866.000000</td>\n",
       "      <td>0.000000</td>\n",
       "    </tr>\n",
       "    <tr>\n",
       "      <th>50%</th>\n",
       "      <td>7.025457</td>\n",
       "      <td>197.215210</td>\n",
       "      <td>20933.512750</td>\n",
       "      <td>7.130161</td>\n",
       "      <td>332.861559</td>\n",
       "      <td>422.039495</td>\n",
       "      <td>14.171164</td>\n",
       "      <td>66.746781</td>\n",
       "      <td>3.937334</td>\n",
       "      <td>1660.000000</td>\n",
       "      <td>0.000000</td>\n",
       "    </tr>\n",
       "    <tr>\n",
       "      <th>75%</th>\n",
       "      <td>8.065339</td>\n",
       "      <td>217.324800</td>\n",
       "      <td>27198.432591</td>\n",
       "      <td>8.105803</td>\n",
       "      <td>360.295455</td>\n",
       "      <td>481.853415</td>\n",
       "      <td>16.563167</td>\n",
       "      <td>77.579755</td>\n",
       "      <td>4.489545</td>\n",
       "      <td>2465.000000</td>\n",
       "      <td>1.000000</td>\n",
       "    </tr>\n",
       "    <tr>\n",
       "      <th>max</th>\n",
       "      <td>14.000000</td>\n",
       "      <td>323.124000</td>\n",
       "      <td>61227.196008</td>\n",
       "      <td>13.043806</td>\n",
       "      <td>481.030642</td>\n",
       "      <td>753.342620</td>\n",
       "      <td>28.300000</td>\n",
       "      <td>124.000000</td>\n",
       "      <td>6.739000</td>\n",
       "      <td>3275.000000</td>\n",
       "      <td>1.000000</td>\n",
       "    </tr>\n",
       "  </tbody>\n",
       "</table>\n",
       "</div>"
      ],
      "text/plain": [
       "                ph     Hardness        Solids  Chloramines      Sulfate  \\\n",
       "count  2085.000000  2457.000000   2457.000000  2457.000000  1856.000000   \n",
       "mean      7.091132   196.574669  22067.550859     7.115832   333.900498   \n",
       "std       1.585194    32.837192   8857.439364     1.572847    41.415814   \n",
       "min       0.000000    73.492234    728.750830     0.352000   129.000000   \n",
       "25%       6.102533   176.772186  15736.580986     6.112819   307.738158   \n",
       "50%       7.025457   197.215210  20933.512750     7.130161   332.861559   \n",
       "75%       8.065339   217.324800  27198.432591     8.105803   360.295455   \n",
       "max      14.000000   323.124000  61227.196008    13.043806   481.030642   \n",
       "\n",
       "       Conductivity  Organic_carbon  Trihalomethanes    Turbidity  \\\n",
       "count   2457.000000     2457.000000      2339.000000  2457.000000   \n",
       "mean     426.557199       14.257422        66.462192     3.954781   \n",
       "std       81.572020        3.285923        16.291432     0.775821   \n",
       "min      181.483754        4.371899         8.175876     1.492207   \n",
       "25%      365.720292       12.031863        55.724326     3.434799   \n",
       "50%      422.039495       14.171164        66.746781     3.937334   \n",
       "75%      481.853415       16.563167        77.579755     4.489545   \n",
       "max      753.342620       28.300000       124.000000     6.739000   \n",
       "\n",
       "                ID   Potability  \n",
       "count  2457.000000  2457.000000  \n",
       "mean   1657.868132     0.394383  \n",
       "std     935.004181     0.488817  \n",
       "min       1.000000     0.000000  \n",
       "25%     866.000000     0.000000  \n",
       "50%    1660.000000     0.000000  \n",
       "75%    2465.000000     1.000000  \n",
       "max    3275.000000     1.000000  "
      ]
     },
     "execution_count": 102,
     "metadata": {},
     "output_type": "execute_result"
    }
   ],
   "source": [
    "train_df.describe()"
   ]
  },
  {
   "cell_type": "code",
   "execution_count": 103,
   "id": "419c3824",
   "metadata": {},
   "outputs": [
    {
     "data": {
      "text/plain": [
       "ph                 0.027661\n",
       "Hardness          -0.029208\n",
       "Solids             0.663432\n",
       "Chloramines       -0.039178\n",
       "Sulfate           -0.035844\n",
       "Conductivity       0.281756\n",
       "Organic_carbon     0.018261\n",
       "Trihalomethanes   -0.103737\n",
       "Turbidity         -0.010875\n",
       "ID                -0.021907\n",
       "Potability         0.432483\n",
       "dtype: float64"
      ]
     },
     "execution_count": 103,
     "metadata": {},
     "output_type": "execute_result"
    }
   ],
   "source": [
    "train_df.skew()"
   ]
  },
  {
   "cell_type": "code",
   "execution_count": 104,
   "id": "6912f57c",
   "metadata": {},
   "outputs": [
    {
     "data": {
      "text/plain": [
       "0       False\n",
       "1       False\n",
       "2       False\n",
       "3       False\n",
       "4       False\n",
       "        ...  \n",
       "2452    False\n",
       "2453    False\n",
       "2454    False\n",
       "2455    False\n",
       "2456    False\n",
       "Length: 2457, dtype: bool"
      ]
     },
     "execution_count": 104,
     "metadata": {},
     "output_type": "execute_result"
    }
   ],
   "source": [
    "train_df.duplicated()"
   ]
  },
  {
   "cell_type": "code",
   "execution_count": 105,
   "id": "e85d763f",
   "metadata": {},
   "outputs": [
    {
     "data": {
      "text/plain": [
       "ph                 372\n",
       "Hardness             0\n",
       "Solids               0\n",
       "Chloramines          0\n",
       "Sulfate            601\n",
       "Conductivity         0\n",
       "Organic_carbon       0\n",
       "Trihalomethanes    118\n",
       "Turbidity            0\n",
       "ID                   0\n",
       "Potability           0\n",
       "dtype: int64"
      ]
     },
     "execution_count": 105,
     "metadata": {},
     "output_type": "execute_result"
    }
   ],
   "source": [
    "train_df.isna().sum()"
   ]
  },
  {
   "cell_type": "code",
   "execution_count": 106,
   "id": "258add54",
   "metadata": {},
   "outputs": [],
   "source": [
    "train_df.fillna(train_df.mean(), inplace = True)"
   ]
  },
  {
   "cell_type": "code",
   "execution_count": 107,
   "id": "cf8a8347",
   "metadata": {},
   "outputs": [
    {
     "data": {
      "text/plain": [
       "ph                 0\n",
       "Hardness           0\n",
       "Solids             0\n",
       "Chloramines        0\n",
       "Sulfate            0\n",
       "Conductivity       0\n",
       "Organic_carbon     0\n",
       "Trihalomethanes    0\n",
       "Turbidity          0\n",
       "ID                 0\n",
       "Potability         0\n",
       "dtype: int64"
      ]
     },
     "execution_count": 107,
     "metadata": {},
     "output_type": "execute_result"
    }
   ],
   "source": [
    "train_df.isna().sum()"
   ]
  },
  {
   "cell_type": "code",
   "execution_count": 108,
   "id": "bc0bf108",
   "metadata": {},
   "outputs": [
    {
     "data": {
      "text/plain": [
       "0    1488\n",
       "1     969\n",
       "Name: Potability, dtype: int64"
      ]
     },
     "execution_count": 108,
     "metadata": {},
     "output_type": "execute_result"
    }
   ],
   "source": [
    "train_df['Potability'].value_counts()"
   ]
  },
  {
   "cell_type": "markdown",
   "id": "d8f96f71",
   "metadata": {},
   "source": [
    "# EDA:"
   ]
  },
  {
   "cell_type": "code",
   "execution_count": 109,
   "id": "b2531be6",
   "metadata": {},
   "outputs": [
    {
     "data": {
      "image/png": "[encoded data removed]",
      "text/plain": [
       "<Figure size 640x480 with 1 Axes>"
      ]
     },
     "metadata": {},
     "output_type": "display_data"
    }
   ],
   "source": [
    "sns.countplot(data = train_df, x = 'Potability')\n",
    "plt.show()"
   ]
  },
  {
   "cell_type": "code",
   "execution_count": 110,
   "id": "2c1df9e3",
   "metadata": {},
   "outputs": [
    {
     "data": {
      "image/png": "[encoded data removed]",
      "text/plain": [
       "<Figure size 800x400 with 1 Axes>"
      ]
     },
     "metadata": {},
     "output_type": "display_data"
    }
   ],
   "source": [
    "figure = plt.figure(figsize=[10, 5])\n",
    "\n",
    "train_df['Potability'].value_counts().plot.pie(autopct='%3.1f%%',labels = ['Not Potable', 'Potable'] ,cmap = 'Pastel1')\n",
    "\n",
    "plt.ylabel(ylabel='Potability', size=14)\n",
    "plt.title(label='Proportion of Potability', size=13)\n",
    "plt.show()"
   ]
  },
  {
   "cell_type": "code",
   "execution_count": 111,
   "id": "87d77f84",
   "metadata": {},
   "outputs": [
    {
     "name": "stdout",
     "output_type": "stream",
     "text": [
      "Minimum value in Hardness column is : 73.4922336890611\n",
      "Maximum value in Hardness column is : 323.124\n"
     ]
    }
   ],
   "source": [
    "print('Minimum value in Hardness column is :', train_df['Hardness'].min())\n",
    "print('Maximum value in Hardness column is :', train_df['Hardness'].max())"
   ]
  },
  {
   "cell_type": "code",
   "execution_count": 112,
   "id": "901c2f62",
   "metadata": {},
   "outputs": [
    {
     "data": {
      "image/png": "[encoded data removed]",
      "text/plain": [
       "<Figure size 640x480 with 1 Axes>"
      ]
     },
     "metadata": {},
     "output_type": "display_data"
    }
   ],
   "source": [
    "sns.histplot(train_df['Turbidity'], kde = True)\n",
    "plt.show()"
   ]
  },
  {
   "cell_type": "code",
   "execution_count": 113,
   "id": "d58130d1",
   "metadata": {},
   "outputs": [
    {
     "name": "stdout",
     "output_type": "stream",
     "text": [
      "Minimum value in Turbidity column is : 1.4922066153042484\n",
      "Maximum value in Turbidity column is : 6.739\n"
     ]
    }
   ],
   "source": [
    "print('Minimum value in Turbidity column is :', train_df['Turbidity'].min())\n",
    "print('Maximum value in Turbidity column is :', train_df['Turbidity'].max())"
   ]
  },
  {
   "cell_type": "code",
   "execution_count": 114,
   "id": "6dfc4d65",
   "metadata": {
    "scrolled": true
   },
   "outputs": [
    {
     "data": {
      "image/png": "[encoded data removed]",
      "text/plain": [
       "<Figure size 640x480 with 1 Axes>"
      ]
     },
     "metadata": {},
     "output_type": "display_data"
    }
   ],
   "source": [
    "sns.histplot(train_df['Sulfate'], kde = True)\n",
    "plt.show()"
   ]
  },
  {
   "cell_type": "code",
   "execution_count": 115,
   "id": "442bd49b",
   "metadata": {},
   "outputs": [
    {
     "data": {
      "image/png": "[encoded data removed]",
      "text/plain": [
       "<Figure size 1200x560 with 2 Axes>"
      ]
     },
     "metadata": {},
     "output_type": "display_data"
    }
   ],
   "source": [
    "figure = plt.figure(figsize=[15, 7])\n",
    "sns.heatmap(data=train_df.corr(), annot=True)\n",
    "plt.xticks(size=12, rotation=90)\n",
    "plt.yticks(size=12)\n",
    "plt.xlabel(xlabel='Feature Space X', size=14)\n",
    "plt.ylabel(ylabel='Feature Space Y', size=14)\n",
    "plt.title(label='Correlation of Features', size=16)\n",
    "plt.show()"
   ]
  },
  {
   "cell_type": "code",
   "execution_count": 116,
   "id": "e1b3f1c8",
   "metadata": {},
   "outputs": [],
   "source": [
    "train_df.drop('ID', axis = 1, inplace = True)   #dropping ID column"
   ]
  },
  {
   "cell_type": "code",
   "execution_count": 117,
   "id": "dfa667e0",
   "metadata": {},
   "outputs": [
    {
     "name": "stdout",
     "output_type": "stream",
     "text": [
      "<class 'pandas.core.frame.DataFrame'>\n",
      "RangeIndex: 2457 entries, 0 to 2456\n",
      "Data columns (total 10 columns):\n",
      " #   Column           Non-Null Count  Dtype  \n",
      "---  ------           --------------  -----  \n",
      " 0   ph               2457 non-null   float64\n",
      " 1   Hardness         2457 non-null   float64\n",
      " 2   Solids           2457 non-null   float64\n",
      " 3   Chloramines      2457 non-null   float64\n",
      " 4   Sulfate          2457 non-null   float64\n",
      " 5   Conductivity     2457 non-null   float64\n",
      " 6   Organic_carbon   2457 non-null   float64\n",
      " 7   Trihalomethanes  2457 non-null   float64\n",
      " 8   Turbidity        2457 non-null   float64\n",
      " 9   Potability       2457 non-null   int64  \n",
      "dtypes: float64(9), int64(1)\n",
      "memory usage: 192.1 KB\n"
     ]
    }
   ],
   "source": [
    "train_df.info()"
   ]
  },
  {
   "cell_type": "markdown",
   "id": "f48110a6",
   "metadata": {},
   "source": [
    "**Treating Outliers:**"
   ]
  },
  {
   "cell_type": "code",
   "execution_count": 118,
   "id": "a1aa8bfe",
   "metadata": {},
   "outputs": [
    {
     "name": "stdout",
     "output_type": "stream",
     "text": [
      "ph\n"
     ]
    },
    {
     "data": {
      "image/png": "[encoded data removed]",
      "text/plain": [
       "<Figure size 640x480 with 1 Axes>"
      ]
     },
     "metadata": {},
     "output_type": "display_data"
    },
    {
     "name": "stdout",
     "output_type": "stream",
     "text": [
      "Hardness\n"
     ]
    },
    {
     "data": {
      "image/png": "[encoded data removed]",
      "text/plain": [
       "<Figure size 640x480 with 1 Axes>"
      ]
     },
     "metadata": {},
     "output_type": "display_data"
    },
    {
     "name": "stdout",
     "output_type": "stream",
     "text": [
      "Solids\n"
     ]
    },
    {
     "data": {
      "image/png": "[encoded data removed]",
      "text/plain": [
       "<Figure size 640x480 with 1 Axes>"
      ]
     },
     "metadata": {},
     "output_type": "display_data"
    },
    {
     "name": "stdout",
     "output_type": "stream",
     "text": [
      "Chloramines\n"
     ]
    },
    {
     "data": {
      "image/png": "[encoded data removed]",
      "text/plain": [
       "<Figure size 640x480 with 1 Axes>"
      ]
     },
     "metadata": {},
     "output_type": "display_data"
    },
    {
     "name": "stdout",
     "output_type": "stream",
     "text": [
      "Sulfate\n"
     ]
    },
    {
     "data": {
      "image/png": "[encoded data removed]",
      "text/plain": [
       "<Figure size 640x480 with 1 Axes>"
      ]
     },
     "metadata": {},
     "output_type": "display_data"
    },
    {
     "name": "stdout",
     "output_type": "stream",
     "text": [
      "Conductivity\n"
     ]
    },
    {
     "data": {
      "image/png": "[encoded data removed]",
      "text/plain": [
       "<Figure size 640x480 with 1 Axes>"
      ]
     },
     "metadata": {},
     "output_type": "display_data"
    },
    {
     "name": "stdout",
     "output_type": "stream",
     "text": [
      "Organic_carbon\n"
     ]
    },
    {
     "data": {
      "image/png": "[encoded data removed]",
      "text/plain": [
       "<Figure size 640x480 with 1 Axes>"
      ]
     },
     "metadata": {},
     "output_type": "display_data"
    },
    {
     "name": "stdout",
     "output_type": "stream",
     "text": [
      "Trihalomethanes\n"
     ]
    },
    {
     "data": {
      "image/png": "[encoded data removed]",
      "text/plain": [
       "<Figure size 640x480 with 1 Axes>"
      ]
     },
     "metadata": {},
     "output_type": "display_data"
    },
    {
     "name": "stdout",
     "output_type": "stream",
     "text": [
      "Turbidity\n"
     ]
    },
    {
     "data": {
      "image/png": "[encoded data removed]",
      "text/plain": [
       "<Figure size 640x480 with 1 Axes>"
      ]
     },
     "metadata": {},
     "output_type": "display_data"
    }
   ],
   "source": [
    "for col in train_df.iloc[:,:9].columns:\n",
    "    print(col)\n",
    "    sns.boxplot(x = train_df[col], data = train_df, color = 'red')\n",
    "    plt.show()"
   ]
  },
  {
   "cell_type": "code",
   "execution_count": 119,
   "id": "b7a71912",
   "metadata": {},
   "outputs": [],
   "source": [
    "def Outlier(var):\n",
    "    for x in var.iloc[:, :9].columns:\n",
    "        Q1 = var[x].quantile(0.25)\n",
    "        Q3 = var[x].quantile(0.75)\n",
    "        IQR = Q3-Q1\n",
    "        Lower = Q1-(1.5*IQR)\n",
    "        Upper = Q3+(1.5*IQR)\n",
    "        var.loc[:,x] = np.where(var[x].values > Upper, Upper, var[x].values)\n",
    "        var.loc[:,x] = np.where(var[x].values < Lower, Lower, var[x].values)\n",
    "    return var\n",
    "df_train = Outlier(train_df)"
   ]
  },
  {
   "cell_type": "code",
   "execution_count": 120,
   "id": "71e0eaca",
   "metadata": {},
   "outputs": [
    {
     "name": "stdout",
     "output_type": "stream",
     "text": [
      "ph\n"
     ]
    },
    {
     "data": {
      "image/png": "[encoded data removed]",
      "text/plain": [
       "<Figure size 640x480 with 1 Axes>"
      ]
     },
     "metadata": {},
     "output_type": "display_data"
    },
    {
     "name": "stdout",
     "output_type": "stream",
     "text": [
      "Hardness\n"
     ]
    },
    {
     "data": {
      "image/png": "[encoded data removed]",
      "text/plain": [
       "<Figure size 640x480 with 1 Axes>"
      ]
     },
     "metadata": {},
     "output_type": "display_data"
    },
    {
     "name": "stdout",
     "output_type": "stream",
     "text": [
      "Solids\n"
     ]
    },
    {
     "data": {
      "image/png": "[encoded data removed]",
      "text/plain": [
       "<Figure size 640x480 with 1 Axes>"
      ]
     },
     "metadata": {},
     "output_type": "display_data"
    },
    {
     "name": "stdout",
     "output_type": "stream",
     "text": [
      "Chloramines\n"
     ]
    },
    {
     "data": {
      "image/png": "[encoded data removed]",
      "text/plain": [
       "<Figure size 640x480 with 1 Axes>"
      ]
     },
     "metadata": {},
     "output_type": "display_data"
    },
    {
     "name": "stdout",
     "output_type": "stream",
     "text": [
      "Sulfate\n"
     ]
    },
    {
     "data": {
      "image/png": "[encoded data removed]",
      "text/plain": [
       "<Figure size 640x480 with 1 Axes>"
      ]
     },
     "metadata": {},
     "output_type": "display_data"
    },
    {
     "name": "stdout",
     "output_type": "stream",
     "text": [
      "Conductivity\n"
     ]
    },
    {
     "data": {
      "image/png": "[encoded data removed]",
      "text/plain": [
       "<Figure size 640x480 with 1 Axes>"
      ]
     },
     "metadata": {},
     "output_type": "display_data"
    },
    {
     "name": "stdout",
     "output_type": "stream",
     "text": [
      "Organic_carbon\n"
     ]
    },
    {
     "data": {
      "image/png": "[encoded data removed]",
      "text/plain": [
       "<Figure size 640x480 with 1 Axes>"
      ]
     },
     "metadata": {},
     "output_type": "display_data"
    },
    {
     "name": "stdout",
     "output_type": "stream",
     "text": [
      "Trihalomethanes\n"
     ]
    },
    {
     "data": {
      "image/png": "[encoded data removed]",
      "text/plain": [
       "<Figure size 640x480 with 1 Axes>"
      ]
     },
     "metadata": {},
     "output_type": "display_data"
    },
    {
     "name": "stdout",
     "output_type": "stream",
     "text": [
      "Turbidity\n"
     ]
    },
    {
     "data": {
      "image/png": "[encoded data removed]",
      "text/plain": [
       "<Figure size 640x480 with 1 Axes>"
      ]
     },
     "metadata": {},
     "output_type": "display_data"
    }
   ],
   "source": [
    "for col in train_df.iloc[:, :9].columns:\n",
    "    print(col)\n",
    "    sns.boxplot(x = train_df[col], data = train_df, color = 'red')\n",
    "    plt.show()"
   ]
  },
  {
   "cell_type": "code",
   "execution_count": 121,
   "id": "436293e7",
   "metadata": {},
   "outputs": [
    {
     "name": "stdout",
     "output_type": "stream",
     "text": [
      "<class 'pandas.core.frame.DataFrame'>\n",
      "RangeIndex: 2457 entries, 0 to 2456\n",
      "Data columns (total 10 columns):\n",
      " #   Column           Non-Null Count  Dtype  \n",
      "---  ------           --------------  -----  \n",
      " 0   ph               2457 non-null   float64\n",
      " 1   Hardness         2457 non-null   float64\n",
      " 2   Solids           2457 non-null   float64\n",
      " 3   Chloramines      2457 non-null   float64\n",
      " 4   Sulfate          2457 non-null   float64\n",
      " 5   Conductivity     2457 non-null   float64\n",
      " 6   Organic_carbon   2457 non-null   float64\n",
      " 7   Trihalomethanes  2457 non-null   float64\n",
      " 8   Turbidity        2457 non-null   float64\n",
      " 9   Potability       2457 non-null   int64  \n",
      "dtypes: float64(9), int64(1)\n",
      "memory usage: 192.1 KB\n"
     ]
    }
   ],
   "source": [
    "df_train.info()"
   ]
  },
  {
   "cell_type": "markdown",
   "id": "15b337a9",
   "metadata": {},
   "source": [
    "# Train-Test Split:"
   ]
  },
  {
   "cell_type": "code",
   "execution_count": 122,
   "id": "64ed852d",
   "metadata": {},
   "outputs": [],
   "source": [
    "X = df_train.iloc[:, 0:9]\n",
    "Y = df_train['Potability']"
   ]
  },
  {
   "cell_type": "code",
   "execution_count": 123,
   "id": "31465621",
   "metadata": {},
   "outputs": [
    {
     "data": {
      "text/html": [
       "<div>\n",
       "<style scoped>\n",
       "    .dataframe tbody tr th:only-of-type {\n",
       "        vertical-align: middle;\n",
       "    }\n",
       "\n",
       "    .dataframe tbody tr th {\n",
       "        vertical-align: top;\n",
       "    }\n",
       "\n",
       "    .dataframe thead th {\n",
       "        text-align: right;\n",
       "    }\n",
       "</style>\n",
       "<table border=\"1\" class=\"dataframe\">\n",
       "  <thead>\n",
       "    <tr style=\"text-align: right;\">\n",
       "      <th></th>\n",
       "      <th>ph</th>\n",
       "      <th>Hardness</th>\n",
       "      <th>Solids</th>\n",
       "      <th>Chloramines</th>\n",
       "      <th>Sulfate</th>\n",
       "      <th>Conductivity</th>\n",
       "      <th>Organic_carbon</th>\n",
       "      <th>Trihalomethanes</th>\n",
       "      <th>Turbidity</th>\n",
       "    </tr>\n",
       "  </thead>\n",
       "  <tbody>\n",
       "    <tr>\n",
       "      <th>0</th>\n",
       "      <td>7.091132</td>\n",
       "      <td>202.569467</td>\n",
       "      <td>22256.950365</td>\n",
       "      <td>6.913501</td>\n",
       "      <td>304.951498</td>\n",
       "      <td>434.198436</td>\n",
       "      <td>13.696893</td>\n",
       "      <td>64.205667</td>\n",
       "      <td>4.478070</td>\n",
       "    </tr>\n",
       "    <tr>\n",
       "      <th>1</th>\n",
       "      <td>5.319769</td>\n",
       "      <td>204.202072</td>\n",
       "      <td>22390.795566</td>\n",
       "      <td>8.053559</td>\n",
       "      <td>315.027505</td>\n",
       "      <td>399.119025</td>\n",
       "      <td>13.974085</td>\n",
       "      <td>83.157997</td>\n",
       "      <td>2.925732</td>\n",
       "    </tr>\n",
       "    <tr>\n",
       "      <th>2</th>\n",
       "      <td>7.350379</td>\n",
       "      <td>193.633367</td>\n",
       "      <td>26736.085567</td>\n",
       "      <td>10.416589</td>\n",
       "      <td>309.416883</td>\n",
       "      <td>557.495685</td>\n",
       "      <td>16.519722</td>\n",
       "      <td>61.077383</td>\n",
       "      <td>3.663922</td>\n",
       "    </tr>\n",
       "    <tr>\n",
       "      <th>3</th>\n",
       "      <td>7.612517</td>\n",
       "      <td>225.492793</td>\n",
       "      <td>14812.970645</td>\n",
       "      <td>7.982595</td>\n",
       "      <td>356.690174</td>\n",
       "      <td>341.074925</td>\n",
       "      <td>14.994662</td>\n",
       "      <td>55.893916</td>\n",
       "      <td>2.939593</td>\n",
       "    </tr>\n",
       "    <tr>\n",
       "      <th>4</th>\n",
       "      <td>7.122637</td>\n",
       "      <td>183.402648</td>\n",
       "      <td>31295.902410</td>\n",
       "      <td>4.425026</td>\n",
       "      <td>333.900498</td>\n",
       "      <td>411.616070</td>\n",
       "      <td>14.066057</td>\n",
       "      <td>77.185792</td>\n",
       "      <td>3.750447</td>\n",
       "    </tr>\n",
       "    <tr>\n",
       "      <th>...</th>\n",
       "      <td>...</td>\n",
       "      <td>...</td>\n",
       "      <td>...</td>\n",
       "      <td>...</td>\n",
       "      <td>...</td>\n",
       "      <td>...</td>\n",
       "      <td>...</td>\n",
       "      <td>...</td>\n",
       "      <td>...</td>\n",
       "    </tr>\n",
       "    <tr>\n",
       "      <th>2452</th>\n",
       "      <td>4.187491</td>\n",
       "      <td>208.374188</td>\n",
       "      <td>21809.709834</td>\n",
       "      <td>5.846112</td>\n",
       "      <td>327.474203</td>\n",
       "      <td>264.508083</td>\n",
       "      <td>11.235144</td>\n",
       "      <td>46.682597</td>\n",
       "      <td>4.592959</td>\n",
       "    </tr>\n",
       "    <tr>\n",
       "      <th>2453</th>\n",
       "      <td>7.793915</td>\n",
       "      <td>164.958947</td>\n",
       "      <td>25506.912237</td>\n",
       "      <td>7.868036</td>\n",
       "      <td>358.259200</td>\n",
       "      <td>398.460312</td>\n",
       "      <td>15.297496</td>\n",
       "      <td>66.462192</td>\n",
       "      <td>4.220028</td>\n",
       "    </tr>\n",
       "    <tr>\n",
       "      <th>2454</th>\n",
       "      <td>6.630364</td>\n",
       "      <td>186.761088</td>\n",
       "      <td>30939.023214</td>\n",
       "      <td>7.703481</td>\n",
       "      <td>333.900498</td>\n",
       "      <td>330.876083</td>\n",
       "      <td>13.815757</td>\n",
       "      <td>86.753117</td>\n",
       "      <td>3.490588</td>\n",
       "    </tr>\n",
       "    <tr>\n",
       "      <th>2455</th>\n",
       "      <td>8.783168</td>\n",
       "      <td>218.032840</td>\n",
       "      <td>16183.586649</td>\n",
       "      <td>7.390474</td>\n",
       "      <td>334.053885</td>\n",
       "      <td>389.021616</td>\n",
       "      <td>16.354520</td>\n",
       "      <td>47.100982</td>\n",
       "      <td>4.274137</td>\n",
       "    </tr>\n",
       "    <tr>\n",
       "      <th>2456</th>\n",
       "      <td>6.698154</td>\n",
       "      <td>198.286268</td>\n",
       "      <td>34675.862845</td>\n",
       "      <td>6.263602</td>\n",
       "      <td>360.232834</td>\n",
       "      <td>430.935009</td>\n",
       "      <td>12.176678</td>\n",
       "      <td>66.462192</td>\n",
       "      <td>3.758180</td>\n",
       "    </tr>\n",
       "  </tbody>\n",
       "</table>\n",
       "<p>2457 rows × 9 columns</p>\n",
       "</div>"
      ],
      "text/plain": [
       "            ph    Hardness        Solids  Chloramines     Sulfate  \\\n",
       "0     7.091132  202.569467  22256.950365     6.913501  304.951498   \n",
       "1     5.319769  204.202072  22390.795566     8.053559  315.027505   \n",
       "2     7.350379  193.633367  26736.085567    10.416589  309.416883   \n",
       "3     7.612517  225.492793  14812.970645     7.982595  356.690174   \n",
       "4     7.122637  183.402648  31295.902410     4.425026  333.900498   \n",
       "...        ...         ...           ...          ...         ...   \n",
       "2452  4.187491  208.374188  21809.709834     5.846112  327.474203   \n",
       "2453  7.793915  164.958947  25506.912237     7.868036  358.259200   \n",
       "2454  6.630364  186.761088  30939.023214     7.703481  333.900498   \n",
       "2455  8.783168  218.032840  16183.586649     7.390474  334.053885   \n",
       "2456  6.698154  198.286268  34675.862845     6.263602  360.232834   \n",
       "\n",
       "      Conductivity  Organic_carbon  Trihalomethanes  Turbidity  \n",
       "0       434.198436       13.696893        64.205667   4.478070  \n",
       "1       399.119025       13.974085        83.157997   2.925732  \n",
       "2       557.495685       16.519722        61.077383   3.663922  \n",
       "3       341.074925       14.994662        55.893916   2.939593  \n",
       "4       411.616070       14.066057        77.185792   3.750447  \n",
       "...            ...             ...              ...        ...  \n",
       "2452    264.508083       11.235144        46.682597   4.592959  \n",
       "2453    398.460312       15.297496        66.462192   4.220028  \n",
       "2454    330.876083       13.815757        86.753117   3.490588  \n",
       "2455    389.021616       16.354520        47.100982   4.274137  \n",
       "2456    430.935009       12.176678        66.462192   3.758180  \n",
       "\n",
       "[2457 rows x 9 columns]"
      ]
     },
     "execution_count": 123,
     "metadata": {},
     "output_type": "execute_result"
    }
   ],
   "source": [
    "X"
   ]
  },
  {
   "cell_type": "code",
   "execution_count": 124,
   "id": "bd92df65",
   "metadata": {},
   "outputs": [
    {
     "data": {
      "text/plain": [
       "0       0\n",
       "1       0\n",
       "2       0\n",
       "3       1\n",
       "4       0\n",
       "       ..\n",
       "2452    1\n",
       "2453    1\n",
       "2454    0\n",
       "2455    0\n",
       "2456    1\n",
       "Name: Potability, Length: 2457, dtype: int64"
      ]
     },
     "execution_count": 124,
     "metadata": {},
     "output_type": "execute_result"
    }
   ],
   "source": [
    "Y"
   ]
  },
  {
   "cell_type": "code",
   "execution_count": 125,
   "id": "6e695196",
   "metadata": {},
   "outputs": [],
   "source": [
    "from sklearn.model_selection import train_test_split"
   ]
  },
  {
   "cell_type": "code",
   "execution_count": 126,
   "id": "b91178a6",
   "metadata": {},
   "outputs": [],
   "source": [
    "X_train, X_test, Y_train, Y_test = train_test_split(X, Y, test_size = 0.20, random_state = 123, shuffle = True)"
   ]
  },
  {
   "cell_type": "code",
   "execution_count": 127,
   "id": "70f1df6f",
   "metadata": {},
   "outputs": [
    {
     "name": "stdout",
     "output_type": "stream",
     "text": [
      "(1965, 9)\n",
      "(492, 9)\n",
      "(1965,)\n",
      "(492,)\n"
     ]
    }
   ],
   "source": [
    "print(X_train.shape)\n",
    "print(X_test.shape)\n",
    "print(Y_train.shape)\n",
    "print(Y_test.shape)"
   ]
  },
  {
   "cell_type": "markdown",
   "id": "5395b055",
   "metadata": {},
   "source": [
    "# Standard Scaler:"
   ]
  },
  {
   "cell_type": "code",
   "execution_count": 128,
   "id": "2b6e1690",
   "metadata": {},
   "outputs": [],
   "source": [
    "from sklearn.preprocessing import StandardScaler"
   ]
  },
  {
   "cell_type": "code",
   "execution_count": 129,
   "id": "6c32fab8",
   "metadata": {},
   "outputs": [],
   "source": [
    "scaler = StandardScaler()"
   ]
  },
  {
   "cell_type": "code",
   "execution_count": 130,
   "id": "2dcb7d32",
   "metadata": {},
   "outputs": [],
   "source": [
    "X_train = scaler.fit_transform(X_train)\n",
    "X_test = scaler.transform(X_test)"
   ]
  },
  {
   "cell_type": "markdown",
   "id": "ec5b06dc",
   "metadata": {},
   "source": [
    "# 1. LogisticRegression :"
   ]
  },
  {
   "cell_type": "code",
   "execution_count": 131,
   "id": "d7ccb2cb",
   "metadata": {},
   "outputs": [],
   "source": [
    "from sklearn.linear_model import LogisticRegression"
   ]
  },
  {
   "cell_type": "code",
   "execution_count": 132,
   "id": "c09b171a",
   "metadata": {},
   "outputs": [],
   "source": [
    "model = LogisticRegression()"
   ]
  },
  {
   "cell_type": "code",
   "execution_count": 133,
   "id": "4aea4124",
   "metadata": {},
   "outputs": [
    {
     "data": {
      "text/plain": [
       "LogisticRegression()"
      ]
     },
     "execution_count": 133,
     "metadata": {},
     "output_type": "execute_result"
    }
   ],
   "source": [
    "model.fit(X_train, Y_train)"
   ]
  },
  {
   "cell_type": "code",
   "execution_count": 134,
   "id": "13b9b8c7",
   "metadata": {},
   "outputs": [],
   "source": [
    "Y_pred_train = model.predict(X_train)\n",
    "Y_pred_test = model.predict(X_test)"
   ]
  },
  {
   "cell_type": "markdown",
   "id": "6958c777",
   "metadata": {},
   "source": [
    "# Model Evaluation:"
   ]
  },
  {
   "cell_type": "code",
   "execution_count": 135,
   "id": "67b2c81f",
   "metadata": {},
   "outputs": [],
   "source": [
    "def model_eval(actual, predicted):\n",
    "    cm = confusion_matrix(actual, predicted)\n",
    "    accuracy = accuracy_score(actual, predicted)\n",
    "    class_rep = classification_report(actual, predicted)\n",
    "    print(cm)\n",
    "    print('The accuracy of the Model is :', accuracy)\n",
    "    print(class_rep)"
   ]
  },
  {
   "cell_type": "code",
   "execution_count": 136,
   "id": "901b35a7",
   "metadata": {},
   "outputs": [
    {
     "name": "stdout",
     "output_type": "stream",
     "text": [
      "[[1181    0]\n",
      " [ 783    1]]\n",
      "The accuracy of the Model is : 0.601526717557252\n",
      "              precision    recall  f1-score   support\n",
      "\n",
      "           0       0.60      1.00      0.75      1181\n",
      "           1       1.00      0.00      0.00       784\n",
      "\n",
      "    accuracy                           0.60      1965\n",
      "   macro avg       0.80      0.50      0.38      1965\n",
      "weighted avg       0.76      0.60      0.45      1965\n",
      "\n"
     ]
    }
   ],
   "source": [
    "model_eval(Y_train, Y_pred_train)"
   ]
  },
  {
   "cell_type": "code",
   "execution_count": 137,
   "id": "67f79626",
   "metadata": {},
   "outputs": [
    {
     "name": "stdout",
     "output_type": "stream",
     "text": [
      "[[307   0]\n",
      " [185   0]]\n",
      "The accuracy of the Model is : 0.6239837398373984\n",
      "              precision    recall  f1-score   support\n",
      "\n",
      "           0       0.62      1.00      0.77       307\n",
      "           1       0.00      0.00      0.00       185\n",
      "\n",
      "    accuracy                           0.62       492\n",
      "   macro avg       0.31      0.50      0.38       492\n",
      "weighted avg       0.39      0.62      0.48       492\n",
      "\n"
     ]
    }
   ],
   "source": [
    "model_eval(Y_test, Y_pred_test)"
   ]
  },
  {
   "cell_type": "markdown",
   "id": "09281011",
   "metadata": {},
   "source": [
    "# 2. DecisionTreeClassifier:"
   ]
  },
  {
   "cell_type": "code",
   "execution_count": 138,
   "id": "d883b875",
   "metadata": {},
   "outputs": [],
   "source": [
    "from sklearn.tree import DecisionTreeClassifier"
   ]
  },
  {
   "cell_type": "code",
   "execution_count": 139,
   "id": "76d66827",
   "metadata": {},
   "outputs": [],
   "source": [
    "dtree = DecisionTreeClassifier(criterion = 'gini', random_state = 0)"
   ]
  },
  {
   "cell_type": "code",
   "execution_count": 140,
   "id": "9bc2278e",
   "metadata": {},
   "outputs": [
    {
     "data": {
      "text/plain": [
       "DecisionTreeClassifier(random_state=0)"
      ]
     },
     "execution_count": 140,
     "metadata": {},
     "output_type": "execute_result"
    }
   ],
   "source": [
    "dtree.fit(X_train, Y_train)"
   ]
  },
  {
   "cell_type": "code",
   "execution_count": 141,
   "id": "24a7147d",
   "metadata": {},
   "outputs": [],
   "source": [
    "Y_pred_dt_train = dtree.predict(X_train)\n",
    "Y_pred_dt_test = dtree.predict(X_test)"
   ]
  },
  {
   "cell_type": "markdown",
   "id": "622feef8",
   "metadata": {},
   "source": [
    "# Model Evaluation:"
   ]
  },
  {
   "cell_type": "code",
   "execution_count": 142,
   "id": "282d781a",
   "metadata": {},
   "outputs": [
    {
     "name": "stdout",
     "output_type": "stream",
     "text": [
      "[[1181    0]\n",
      " [   0  784]]\n",
      "The accuracy of the Model is : 1.0\n",
      "              precision    recall  f1-score   support\n",
      "\n",
      "           0       1.00      1.00      1.00      1181\n",
      "           1       1.00      1.00      1.00       784\n",
      "\n",
      "    accuracy                           1.00      1965\n",
      "   macro avg       1.00      1.00      1.00      1965\n",
      "weighted avg       1.00      1.00      1.00      1965\n",
      "\n"
     ]
    }
   ],
   "source": [
    "model_eval(Y_train, Y_pred_dt_train)"
   ]
  },
  {
   "cell_type": "code",
   "execution_count": 143,
   "id": "d42145eb",
   "metadata": {},
   "outputs": [
    {
     "name": "stdout",
     "output_type": "stream",
     "text": [
      "[[207 100]\n",
      " [ 87  98]]\n",
      "The accuracy of the Model is : 0.6199186991869918\n",
      "              precision    recall  f1-score   support\n",
      "\n",
      "           0       0.70      0.67      0.69       307\n",
      "           1       0.49      0.53      0.51       185\n",
      "\n",
      "    accuracy                           0.62       492\n",
      "   macro avg       0.60      0.60      0.60       492\n",
      "weighted avg       0.63      0.62      0.62       492\n",
      "\n"
     ]
    }
   ],
   "source": [
    "model_eval(Y_test, Y_pred_dt_test)"
   ]
  },
  {
   "cell_type": "markdown",
   "id": "1c2aa42d",
   "metadata": {},
   "source": [
    "# 3. RandomForestClassifier:"
   ]
  },
  {
   "cell_type": "code",
   "execution_count": 144,
   "id": "a3d4f7ae",
   "metadata": {},
   "outputs": [],
   "source": [
    "from sklearn.ensemble import RandomForestClassifier"
   ]
  },
  {
   "cell_type": "code",
   "execution_count": 145,
   "id": "c185915c",
   "metadata": {},
   "outputs": [],
   "source": [
    "rfc = RandomForestClassifier()"
   ]
  },
  {
   "cell_type": "code",
   "execution_count": 146,
   "id": "a71ab84b",
   "metadata": {},
   "outputs": [
    {
     "data": {
      "text/plain": [
       "RandomForestClassifier()"
      ]
     },
     "execution_count": 146,
     "metadata": {},
     "output_type": "execute_result"
    }
   ],
   "source": [
    "rfc.fit(X_train, Y_train)"
   ]
  },
  {
   "cell_type": "markdown",
   "id": "a9695cac",
   "metadata": {},
   "source": [
    "# Model Evaluation:"
   ]
  },
  {
   "cell_type": "code",
   "execution_count": 147,
   "id": "a641c4b4",
   "metadata": {},
   "outputs": [],
   "source": [
    "Y_pred_rf_train = rfc.predict(X_train)\n",
    "Y_pred_rf_test = rfc.predict(X_test)"
   ]
  },
  {
   "cell_type": "code",
   "execution_count": 148,
   "id": "734636fc",
   "metadata": {},
   "outputs": [
    {
     "name": "stdout",
     "output_type": "stream",
     "text": [
      "[[1181    0]\n",
      " [   0  784]]\n",
      "The accuracy of the Model is : 1.0\n",
      "              precision    recall  f1-score   support\n",
      "\n",
      "           0       1.00      1.00      1.00      1181\n",
      "           1       1.00      1.00      1.00       784\n",
      "\n",
      "    accuracy                           1.00      1965\n",
      "   macro avg       1.00      1.00      1.00      1965\n",
      "weighted avg       1.00      1.00      1.00      1965\n",
      "\n"
     ]
    }
   ],
   "source": [
    "model_eval(Y_train, Y_pred_rf_train)"
   ]
  },
  {
   "cell_type": "code",
   "execution_count": 149,
   "id": "082a7a9e",
   "metadata": {},
   "outputs": [
    {
     "name": "stdout",
     "output_type": "stream",
     "text": [
      "[[307   0]\n",
      " [185   0]]\n",
      "The accuracy of the Model is : 0.6239837398373984\n",
      "              precision    recall  f1-score   support\n",
      "\n",
      "           0       0.62      1.00      0.77       307\n",
      "           1       0.00      0.00      0.00       185\n",
      "\n",
      "    accuracy                           0.62       492\n",
      "   macro avg       0.31      0.50      0.38       492\n",
      "weighted avg       0.39      0.62      0.48       492\n",
      "\n"
     ]
    }
   ],
   "source": [
    "model_eval(Y_test, Y_pred_test)"
   ]
  },
  {
   "cell_type": "markdown",
   "id": "376bd10c",
   "metadata": {},
   "source": [
    "# 4(a). KNeighborsClassifier:"
   ]
  },
  {
   "cell_type": "code",
   "execution_count": 150,
   "id": "c95e4e82",
   "metadata": {},
   "outputs": [],
   "source": [
    "from sklearn.neighbors import KNeighborsClassifier"
   ]
  },
  {
   "cell_type": "code",
   "execution_count": 151,
   "id": "d89a2b0a",
   "metadata": {},
   "outputs": [],
   "source": [
    "neigh = KNeighborsClassifier(n_neighbors = 5)"
   ]
  },
  {
   "cell_type": "code",
   "execution_count": 152,
   "id": "0ab017c2",
   "metadata": {},
   "outputs": [
    {
     "data": {
      "text/plain": [
       "KNeighborsClassifier()"
      ]
     },
     "execution_count": 152,
     "metadata": {},
     "output_type": "execute_result"
    }
   ],
   "source": [
    "neigh.fit(X_train, Y_train)"
   ]
  },
  {
   "cell_type": "code",
   "execution_count": 153,
   "id": "6699c59f",
   "metadata": {},
   "outputs": [],
   "source": [
    "Y_pred_Kn_train = neigh.predict(X_train)\n",
    "Y_pred_Kn_test = neigh.predict(X_test)"
   ]
  },
  {
   "cell_type": "markdown",
   "id": "d9cb8c66",
   "metadata": {},
   "source": [
    "# Model Evaluation on 4(a):"
   ]
  },
  {
   "cell_type": "code",
   "execution_count": 154,
   "id": "164c27f9",
   "metadata": {},
   "outputs": [
    {
     "name": "stdout",
     "output_type": "stream",
     "text": [
      "[[1028  153]\n",
      " [ 338  446]]\n",
      "The accuracy of the Model is : 0.7501272264631044\n",
      "              precision    recall  f1-score   support\n",
      "\n",
      "           0       0.75      0.87      0.81      1181\n",
      "           1       0.74      0.57      0.64       784\n",
      "\n",
      "    accuracy                           0.75      1965\n",
      "   macro avg       0.75      0.72      0.73      1965\n",
      "weighted avg       0.75      0.75      0.74      1965\n",
      "\n"
     ]
    }
   ],
   "source": [
    "model_eval(Y_train, Y_pred_Kn_train)"
   ]
  },
  {
   "cell_type": "code",
   "execution_count": 155,
   "id": "7ab93646",
   "metadata": {},
   "outputs": [
    {
     "name": "stdout",
     "output_type": "stream",
     "text": [
      "[[249  58]\n",
      " [106  79]]\n",
      "The accuracy of the Model is : 0.6666666666666666\n",
      "              precision    recall  f1-score   support\n",
      "\n",
      "           0       0.70      0.81      0.75       307\n",
      "           1       0.58      0.43      0.49       185\n",
      "\n",
      "    accuracy                           0.67       492\n",
      "   macro avg       0.64      0.62      0.62       492\n",
      "weighted avg       0.65      0.67      0.65       492\n",
      "\n"
     ]
    }
   ],
   "source": [
    "model_eval(Y_test, Y_pred_Kn_test)"
   ]
  },
  {
   "cell_type": "markdown",
   "id": "11cf6f9f",
   "metadata": {},
   "source": [
    "# Finding the best K neighbors :"
   ]
  },
  {
   "cell_type": "code",
   "execution_count": 156,
   "id": "6e52aec9",
   "metadata": {},
   "outputs": [],
   "source": [
    "error = []\n",
    "\n",
    "for i in range(1,40):\n",
    "    knn = KNeighborsClassifier(n_neighbors = i)\n",
    "    knn.fit(X_train, Y_train)\n",
    "    pred_i = knn.predict(X_test)\n",
    "    error.append(np.mean(pred_i != Y_test))"
   ]
  },
  {
   "cell_type": "code",
   "execution_count": 157,
   "id": "5681ec8a",
   "metadata": {},
   "outputs": [
    {
     "data": {
      "text/plain": [
       "[0.39634146341463417,\n",
       " 0.3638211382113821,\n",
       " 0.3800813008130081,\n",
       " 0.34959349593495936,\n",
       " 0.3333333333333333,\n",
       " 0.34146341463414637,\n",
       " 0.34552845528455284,\n",
       " 0.3678861788617886,\n",
       " 0.3617886178861789,\n",
       " 0.3617886178861789,\n",
       " 0.3719512195121951,\n",
       " 0.37601626016260165,\n",
       " 0.35772357723577236,\n",
       " 0.3516260162601626,\n",
       " 0.3638211382113821,\n",
       " 0.3617886178861789,\n",
       " 0.35772357723577236,\n",
       " 0.3719512195121951,\n",
       " 0.3861788617886179,\n",
       " 0.35365853658536583,\n",
       " 0.3699186991869919,\n",
       " 0.3556910569105691,\n",
       " 0.3638211382113821,\n",
       " 0.3434959349593496,\n",
       " 0.34146341463414637,\n",
       " 0.34552845528455284,\n",
       " 0.34959349593495936,\n",
       " 0.3475609756097561,\n",
       " 0.35365853658536583,\n",
       " 0.3394308943089431,\n",
       " 0.3333333333333333,\n",
       " 0.32926829268292684,\n",
       " 0.33739837398373984,\n",
       " 0.3231707317073171,\n",
       " 0.3313008130081301,\n",
       " 0.32926829268292684,\n",
       " 0.31910569105691056,\n",
       " 0.32723577235772355,\n",
       " 0.32723577235772355]"
      ]
     },
     "execution_count": 157,
     "metadata": {},
     "output_type": "execute_result"
    }
   ],
   "source": [
    "error"
   ]
  },
  {
   "cell_type": "code",
   "execution_count": 158,
   "id": "e4094d59",
   "metadata": {},
   "outputs": [
    {
     "data": {
      "image/png": "[encoded data removed]",
      "text/plain": [
       "<Figure size 960x480 with 1 Axes>"
      ]
     },
     "metadata": {},
     "output_type": "display_data"
    }
   ],
   "source": [
    "plt.style.use(\"classic\")\n",
    "plt.figure(figsize = (12,6))\n",
    "plt.plot(range(1, 40), error, color = 'red', linestyle = \"dashed\", marker = \"o\", markerfacecolor = \"blue\", markersize = 10)\n",
    "plt.show()"
   ]
  },
  {
   "cell_type": "markdown",
   "id": "8040e15c",
   "metadata": {},
   "source": [
    "# 4(b). KNeighborsClassifier:"
   ]
  },
  {
   "cell_type": "code",
   "execution_count": 159,
   "id": "19c6546c",
   "metadata": {},
   "outputs": [],
   "source": [
    "knn = KNeighborsClassifier(n_neighbors = 37)"
   ]
  },
  {
   "cell_type": "code",
   "execution_count": 160,
   "id": "cdbb4b3e",
   "metadata": {},
   "outputs": [
    {
     "data": {
      "text/plain": [
       "KNeighborsClassifier(n_neighbors=37)"
      ]
     },
     "execution_count": 160,
     "metadata": {},
     "output_type": "execute_result"
    }
   ],
   "source": [
    "knn.fit(X_train, Y_train)"
   ]
  },
  {
   "cell_type": "code",
   "execution_count": 161,
   "id": "9ad76db5",
   "metadata": {},
   "outputs": [],
   "source": [
    "y_pred_kn2_train = knn.predict(X_train)\n",
    "y_pred_kn2_test = knn.predict(X_test)"
   ]
  },
  {
   "cell_type": "markdown",
   "id": "9ded0745",
   "metadata": {},
   "source": [
    "# Model Evaluation on 4(b):"
   ]
  },
  {
   "cell_type": "code",
   "execution_count": 162,
   "id": "fb9530af",
   "metadata": {},
   "outputs": [
    {
     "name": "stdout",
     "output_type": "stream",
     "text": [
      "[[1127   54]\n",
      " [ 603  181]]\n",
      "The accuracy of the Model is : 0.665648854961832\n",
      "              precision    recall  f1-score   support\n",
      "\n",
      "           0       0.65      0.95      0.77      1181\n",
      "           1       0.77      0.23      0.36       784\n",
      "\n",
      "    accuracy                           0.67      1965\n",
      "   macro avg       0.71      0.59      0.56      1965\n",
      "weighted avg       0.70      0.67      0.61      1965\n",
      "\n"
     ]
    }
   ],
   "source": [
    "model_eval(Y_train, y_pred_kn2_train)"
   ]
  },
  {
   "cell_type": "code",
   "execution_count": 163,
   "id": "9332b7c2",
   "metadata": {},
   "outputs": [
    {
     "name": "stdout",
     "output_type": "stream",
     "text": [
      "[[296  11]\n",
      " [146  39]]\n",
      "The accuracy of the Model is : 0.6808943089430894\n",
      "              precision    recall  f1-score   support\n",
      "\n",
      "           0       0.67      0.96      0.79       307\n",
      "           1       0.78      0.21      0.33       185\n",
      "\n",
      "    accuracy                           0.68       492\n",
      "   macro avg       0.72      0.59      0.56       492\n",
      "weighted avg       0.71      0.68      0.62       492\n",
      "\n"
     ]
    }
   ],
   "source": [
    "model_eval(Y_test, y_pred_kn2_test)"
   ]
  },
  {
   "cell_type": "markdown",
   "id": "664c187b",
   "metadata": {},
   "source": [
    "# 5. XGBClassifier:"
   ]
  },
  {
   "cell_type": "code",
   "execution_count": 164,
   "id": "8aa29890",
   "metadata": {},
   "outputs": [],
   "source": [
    "from xgboost import XGBClassifier"
   ]
  },
  {
   "cell_type": "code",
   "execution_count": 165,
   "id": "9173da09",
   "metadata": {},
   "outputs": [],
   "source": [
    "boost = XGBClassifier()"
   ]
  },
  {
   "cell_type": "code",
   "execution_count": 166,
   "id": "ad2619e9",
   "metadata": {},
   "outputs": [
    {
     "data": {
      "text/plain": [
       "XGBClassifier(base_score=0.5, booster='gbtree', callbacks=None,\n",
       "              colsample_bylevel=1, colsample_bynode=1, colsample_bytree=1,\n",
       "              early_stopping_rounds=None, enable_categorical=False,\n",
       "              eval_metric=None, feature_types=None, gamma=0, gpu_id=-1,\n",
       "              grow_policy='depthwise', importance_type=None,\n",
       "              interaction_constraints='', learning_rate=0.300000012,\n",
       "              max_bin=256, max_cat_threshold=64, max_cat_to_onehot=4,\n",
       "              max_delta_step=0, max_depth=6, max_leaves=0, min_child_weight=1,\n",
       "              missing=nan, monotone_constraints='()', n_estimators=100,\n",
       "              n_jobs=0, num_parallel_tree=1, predictor='auto', random_state=0, ...)"
      ]
     },
     "execution_count": 166,
     "metadata": {},
     "output_type": "execute_result"
    }
   ],
   "source": [
    "boost.fit(X_train, Y_train)"
   ]
  },
  {
   "cell_type": "code",
   "execution_count": 167,
   "id": "0b77da10",
   "metadata": {},
   "outputs": [],
   "source": [
    "Y_model_pred_train = boost.predict(X_train)\n",
    "Y_model_pred_test = boost.predict(X_test)"
   ]
  },
  {
   "cell_type": "markdown",
   "id": "8cc259a5",
   "metadata": {},
   "source": [
    "# Model Evaluation:"
   ]
  },
  {
   "cell_type": "code",
   "execution_count": 168,
   "id": "6d7159e0",
   "metadata": {},
   "outputs": [
    {
     "name": "stdout",
     "output_type": "stream",
     "text": [
      "[[1181    0]\n",
      " [   0  784]]\n",
      "The accuracy of the Model is : 1.0\n",
      "              precision    recall  f1-score   support\n",
      "\n",
      "           0       1.00      1.00      1.00      1181\n",
      "           1       1.00      1.00      1.00       784\n",
      "\n",
      "    accuracy                           1.00      1965\n",
      "   macro avg       1.00      1.00      1.00      1965\n",
      "weighted avg       1.00      1.00      1.00      1965\n",
      "\n"
     ]
    }
   ],
   "source": [
    "model_eval(Y_train, Y_model_pred_train)"
   ]
  },
  {
   "cell_type": "code",
   "execution_count": 169,
   "id": "5e52d954",
   "metadata": {},
   "outputs": [
    {
     "name": "stdout",
     "output_type": "stream",
     "text": [
      "[[241  66]\n",
      " [ 99  86]]\n",
      "The accuracy of the Model is : 0.6646341463414634\n",
      "              precision    recall  f1-score   support\n",
      "\n",
      "           0       0.71      0.79      0.74       307\n",
      "           1       0.57      0.46      0.51       185\n",
      "\n",
      "    accuracy                           0.66       492\n",
      "   macro avg       0.64      0.62      0.63       492\n",
      "weighted avg       0.66      0.66      0.66       492\n",
      "\n"
     ]
    }
   ],
   "source": [
    "model_eval(Y_test, Y_model_pred_test)"
   ]
  },
  {
   "cell_type": "code",
   "execution_count": 170,
   "id": "0dce3118",
   "metadata": {},
   "outputs": [
    {
     "data": {
      "text/html": [
       "<div>\n",
       "<style scoped>\n",
       "    .dataframe tbody tr th:only-of-type {\n",
       "        vertical-align: middle;\n",
       "    }\n",
       "\n",
       "    .dataframe tbody tr th {\n",
       "        vertical-align: top;\n",
       "    }\n",
       "\n",
       "    .dataframe thead th {\n",
       "        text-align: right;\n",
       "    }\n",
       "</style>\n",
       "<table border=\"1\" class=\"dataframe\">\n",
       "  <thead>\n",
       "    <tr style=\"text-align: right;\">\n",
       "      <th></th>\n",
       "      <th>ph</th>\n",
       "      <th>Hardness</th>\n",
       "      <th>Solids</th>\n",
       "      <th>Chloramines</th>\n",
       "      <th>Sulfate</th>\n",
       "      <th>Conductivity</th>\n",
       "      <th>Organic_carbon</th>\n",
       "      <th>Trihalomethanes</th>\n",
       "      <th>Turbidity</th>\n",
       "      <th>ID</th>\n",
       "    </tr>\n",
       "  </thead>\n",
       "  <tbody>\n",
       "    <tr>\n",
       "      <th>0</th>\n",
       "      <td>NaN</td>\n",
       "      <td>183.521107</td>\n",
       "      <td>20461.252710</td>\n",
       "      <td>7.333212</td>\n",
       "      <td>333.119476</td>\n",
       "      <td>356.369022</td>\n",
       "      <td>20.179029</td>\n",
       "      <td>67.019903</td>\n",
       "      <td>4.886634</td>\n",
       "      <td>2947</td>\n",
       "    </tr>\n",
       "    <tr>\n",
       "      <th>1</th>\n",
       "      <td>6.643159</td>\n",
       "      <td>188.913541</td>\n",
       "      <td>32873.820022</td>\n",
       "      <td>6.791509</td>\n",
       "      <td>333.848842</td>\n",
       "      <td>336.561501</td>\n",
       "      <td>14.706810</td>\n",
       "      <td>67.844849</td>\n",
       "      <td>4.562198</td>\n",
       "      <td>2782</td>\n",
       "    </tr>\n",
       "    <tr>\n",
       "      <th>2</th>\n",
       "      <td>7.846058</td>\n",
       "      <td>224.058877</td>\n",
       "      <td>23264.109968</td>\n",
       "      <td>5.922367</td>\n",
       "      <td>300.402620</td>\n",
       "      <td>387.971336</td>\n",
       "      <td>13.406737</td>\n",
       "      <td>43.075186</td>\n",
       "      <td>2.487969</td>\n",
       "      <td>1644</td>\n",
       "    </tr>\n",
       "    <tr>\n",
       "      <th>3</th>\n",
       "      <td>7.160467</td>\n",
       "      <td>183.089310</td>\n",
       "      <td>6743.346066</td>\n",
       "      <td>3.803036</td>\n",
       "      <td>277.599099</td>\n",
       "      <td>428.036344</td>\n",
       "      <td>9.799625</td>\n",
       "      <td>90.035374</td>\n",
       "      <td>3.884891</td>\n",
       "      <td>70</td>\n",
       "    </tr>\n",
       "    <tr>\n",
       "      <th>4</th>\n",
       "      <td>6.615350</td>\n",
       "      <td>179.240661</td>\n",
       "      <td>26392.863612</td>\n",
       "      <td>9.309160</td>\n",
       "      <td>NaN</td>\n",
       "      <td>496.363562</td>\n",
       "      <td>12.786595</td>\n",
       "      <td>78.262369</td>\n",
       "      <td>4.453443</td>\n",
       "      <td>2045</td>\n",
       "    </tr>\n",
       "  </tbody>\n",
       "</table>\n",
       "</div>"
      ],
      "text/plain": [
       "         ph    Hardness        Solids  Chloramines     Sulfate  Conductivity  \\\n",
       "0       NaN  183.521107  20461.252710     7.333212  333.119476    356.369022   \n",
       "1  6.643159  188.913541  32873.820022     6.791509  333.848842    336.561501   \n",
       "2  7.846058  224.058877  23264.109968     5.922367  300.402620    387.971336   \n",
       "3  7.160467  183.089310   6743.346066     3.803036  277.599099    428.036344   \n",
       "4  6.615350  179.240661  26392.863612     9.309160         NaN    496.363562   \n",
       "\n",
       "   Organic_carbon  Trihalomethanes  Turbidity    ID  \n",
       "0       20.179029        67.019903   4.886634  2947  \n",
       "1       14.706810        67.844849   4.562198  2782  \n",
       "2       13.406737        43.075186   2.487969  1644  \n",
       "3        9.799625        90.035374   3.884891    70  \n",
       "4       12.786595        78.262369   4.453443  2045  "
      ]
     },
     "execution_count": 170,
     "metadata": {},
     "output_type": "execute_result"
    }
   ],
   "source": [
    "test_df.head()"
   ]
  },
  {
   "cell_type": "code",
   "execution_count": 171,
   "id": "44bdfd75",
   "metadata": {},
   "outputs": [
    {
     "name": "stdout",
     "output_type": "stream",
     "text": [
      "<class 'pandas.core.frame.DataFrame'>\n",
      "RangeIndex: 819 entries, 0 to 818\n",
      "Data columns (total 10 columns):\n",
      " #   Column           Non-Null Count  Dtype  \n",
      "---  ------           --------------  -----  \n",
      " 0   ph               700 non-null    float64\n",
      " 1   Hardness         819 non-null    float64\n",
      " 2   Solids           819 non-null    float64\n",
      " 3   Chloramines      819 non-null    float64\n",
      " 4   Sulfate          639 non-null    float64\n",
      " 5   Conductivity     819 non-null    float64\n",
      " 6   Organic_carbon   819 non-null    float64\n",
      " 7   Trihalomethanes  775 non-null    float64\n",
      " 8   Turbidity        819 non-null    float64\n",
      " 9   ID               819 non-null    int64  \n",
      "dtypes: float64(9), int64(1)\n",
      "memory usage: 64.1 KB\n"
     ]
    }
   ],
   "source": [
    "test_df.info()"
   ]
  },
  {
   "cell_type": "code",
   "execution_count": 172,
   "id": "4588b877",
   "metadata": {},
   "outputs": [
    {
     "data": {
      "text/plain": [
       "ph                 119\n",
       "Hardness             0\n",
       "Solids               0\n",
       "Chloramines          0\n",
       "Sulfate            180\n",
       "Conductivity         0\n",
       "Organic_carbon       0\n",
       "Trihalomethanes     44\n",
       "Turbidity            0\n",
       "ID                   0\n",
       "dtype: int64"
      ]
     },
     "execution_count": 172,
     "metadata": {},
     "output_type": "execute_result"
    }
   ],
   "source": [
    "test_df.isna().sum()"
   ]
  },
  {
   "cell_type": "code",
   "execution_count": 173,
   "id": "16713459",
   "metadata": {},
   "outputs": [],
   "source": [
    "test_df.fillna(test_df.mean(), inplace = True)"
   ]
  },
  {
   "cell_type": "code",
   "execution_count": 174,
   "id": "b9e81d70",
   "metadata": {},
   "outputs": [
    {
     "data": {
      "text/plain": [
       "ph                 0\n",
       "Hardness           0\n",
       "Solids             0\n",
       "Chloramines        0\n",
       "Sulfate            0\n",
       "Conductivity       0\n",
       "Organic_carbon     0\n",
       "Trihalomethanes    0\n",
       "Turbidity          0\n",
       "ID                 0\n",
       "dtype: int64"
      ]
     },
     "execution_count": 174,
     "metadata": {},
     "output_type": "execute_result"
    }
   ],
   "source": [
    "test_df.isna().sum()"
   ]
  },
  {
   "cell_type": "code",
   "execution_count": 175,
   "id": "b4f45c29",
   "metadata": {},
   "outputs": [
    {
     "name": "stdout",
     "output_type": "stream",
     "text": [
      "ph\n"
     ]
    },
    {
     "data": {
      "image/png": "[encoded data removed]",
      "text/plain": [
       "<Figure size 640x480 with 1 Axes>"
      ]
     },
     "metadata": {},
     "output_type": "display_data"
    },
    {
     "name": "stdout",
     "output_type": "stream",
     "text": [
      "Hardness\n"
     ]
    },
    {
     "data": {
      "image/png": "[encoded data removed]",
      "text/plain": [
       "<Figure size 640x480 with 1 Axes>"
      ]
     },
     "metadata": {},
     "output_type": "display_data"
    },
    {
     "name": "stdout",
     "output_type": "stream",
     "text": [
      "Solids\n"
     ]
    },
    {
     "data": {
      "image/png": "[encoded data removed]",
      "text/plain": [
       "<Figure size 640x480 with 1 Axes>"
      ]
     },
     "metadata": {},
     "output_type": "display_data"
    },
    {
     "name": "stdout",
     "output_type": "stream",
     "text": [
      "Chloramines\n"
     ]
    },
    {
     "data": {
      "image/png": "[encoded data removed]",
      "text/plain": [
       "<Figure size 640x480 with 1 Axes>"
      ]
     },
     "metadata": {},
     "output_type": "display_data"
    },
    {
     "name": "stdout",
     "output_type": "stream",
     "text": [
      "Sulfate\n"
     ]
    },
    {
     "data": {
      "image/png": "[encoded data removed]",
      "text/plain": [
       "<Figure size 640x480 with 1 Axes>"
      ]
     },
     "metadata": {},
     "output_type": "display_data"
    },
    {
     "name": "stdout",
     "output_type": "stream",
     "text": [
      "Conductivity\n"
     ]
    },
    {
     "data": {
      "image/png": "[encoded data removed]",
      "text/plain": [
       "<Figure size 640x480 with 1 Axes>"
      ]
     },
     "metadata": {},
     "output_type": "display_data"
    },
    {
     "name": "stdout",
     "output_type": "stream",
     "text": [
      "Organic_carbon\n"
     ]
    },
    {
     "data": {
      "image/png": "[encoded data removed]",
      "text/plain": [
       "<Figure size 640x480 with 1 Axes>"
      ]
     },
     "metadata": {},
     "output_type": "display_data"
    },
    {
     "name": "stdout",
     "output_type": "stream",
     "text": [
      "Trihalomethanes\n"
     ]
    },
    {
     "data": {
      "image/png": "[encoded data removed]",
      "text/plain": [
       "<Figure size 640x480 with 1 Axes>"
      ]
     },
     "metadata": {},
     "output_type": "display_data"
    },
    {
     "name": "stdout",
     "output_type": "stream",
     "text": [
      "Turbidity\n"
     ]
    },
    {
     "data": {
      "image/png": "[encoded data removed]",
      "text/plain": [
       "<Figure size 640x480 with 1 Axes>"
      ]
     },
     "metadata": {},
     "output_type": "display_data"
    }
   ],
   "source": [
    "for col in test_df.iloc[:,0:9].columns:\n",
    "    print(col)\n",
    "    sns.boxplot(x = test_df[col], data = test_df, color = 'red')\n",
    "    plt.show()"
   ]
  },
  {
   "cell_type": "code",
   "execution_count": 176,
   "id": "45321ab7",
   "metadata": {},
   "outputs": [],
   "source": [
    "def Outlier(var):\n",
    "    for x in var.iloc[:, 0:9].columns:\n",
    "        Q1 = var[x].quantile(0.25)\n",
    "        Q3 = var[x].quantile(0.75)\n",
    "        IQR = Q3-Q1\n",
    "        Lower = Q1-(1.5*IQR)\n",
    "        Upper = Q3+(1.5*IQR)\n",
    "        var.loc[:,x] = np.where(var[x].values > Upper, Upper, var[x].values)\n",
    "        var.loc[:,x] = np.where(var[x].values < Lower, Lower, var[x].values)\n",
    "    return var\n",
    "df_test = Outlier(test_df)"
   ]
  },
  {
   "cell_type": "code",
   "execution_count": 177,
   "id": "59e587ce",
   "metadata": {},
   "outputs": [
    {
     "name": "stdout",
     "output_type": "stream",
     "text": [
      "ph\n"
     ]
    },
    {
     "data": {
      "image/png": "[encoded data removed]",
      "text/plain": [
       "<Figure size 640x480 with 1 Axes>"
      ]
     },
     "metadata": {},
     "output_type": "display_data"
    },
    {
     "name": "stdout",
     "output_type": "stream",
     "text": [
      "Hardness\n"
     ]
    },
    {
     "data": {
      "image/png": "[encoded data removed]",
      "text/plain": [
       "<Figure size 640x480 with 1 Axes>"
      ]
     },
     "metadata": {},
     "output_type": "display_data"
    },
    {
     "name": "stdout",
     "output_type": "stream",
     "text": [
      "Solids\n"
     ]
    },
    {
     "data": {
      "image/png": "[encoded data removed]",
      "text/plain": [
       "<Figure size 640x480 with 1 Axes>"
      ]
     },
     "metadata": {},
     "output_type": "display_data"
    },
    {
     "name": "stdout",
     "output_type": "stream",
     "text": [
      "Chloramines\n"
     ]
    },
    {
     "data": {
      "image/png": "[encoded data removed]",
      "text/plain": [
       "<Figure size 640x480 with 1 Axes>"
      ]
     },
     "metadata": {},
     "output_type": "display_data"
    },
    {
     "name": "stdout",
     "output_type": "stream",
     "text": [
      "Sulfate\n"
     ]
    },
    {
     "data": {
      "image/png": "[encoded data removed]",
      "text/plain": [
       "<Figure size 640x480 with 1 Axes>"
      ]
     },
     "metadata": {},
     "output_type": "display_data"
    },
    {
     "name": "stdout",
     "output_type": "stream",
     "text": [
      "Conductivity\n"
     ]
    },
    {
     "data": {
      "image/png": "[encoded data removed]",
      "text/plain": [
       "<Figure size 640x480 with 1 Axes>"
      ]
     },
     "metadata": {},
     "output_type": "display_data"
    },
    {
     "name": "stdout",
     "output_type": "stream",
     "text": [
      "Organic_carbon\n"
     ]
    },
    {
     "data": {
      "image/png": "[encoded data removed]",
      "text/plain": [
       "<Figure size 640x480 with 1 Axes>"
      ]
     },
     "metadata": {},
     "output_type": "display_data"
    },
    {
     "name": "stdout",
     "output_type": "stream",
     "text": [
      "Trihalomethanes\n"
     ]
    },
    {
     "data": {
      "image/png": "[encoded data removed]",
      "text/plain": [
       "<Figure size 640x480 with 1 Axes>"
      ]
     },
     "metadata": {},
     "output_type": "display_data"
    },
    {
     "name": "stdout",
     "output_type": "stream",
     "text": [
      "Turbidity\n"
     ]
    },
    {
     "data": {
      "image/png": "[encoded data removed]",
      "text/plain": [
       "<Figure size 640x480 with 1 Axes>"
      ]
     },
     "metadata": {},
     "output_type": "display_data"
    }
   ],
   "source": [
    "for col in test_df.iloc[:, 0:9].columns:\n",
    "    print(col)\n",
    "    sns.boxplot(x = test_df[col], data = test_df, color = 'red')\n",
    "    plt.show()"
   ]
  },
  {
   "cell_type": "code",
   "execution_count": 178,
   "id": "6cd21a8f",
   "metadata": {},
   "outputs": [
    {
     "data": {
      "text/html": [
       "<div>\n",
       "<style scoped>\n",
       "    .dataframe tbody tr th:only-of-type {\n",
       "        vertical-align: middle;\n",
       "    }\n",
       "\n",
       "    .dataframe tbody tr th {\n",
       "        vertical-align: top;\n",
       "    }\n",
       "\n",
       "    .dataframe thead th {\n",
       "        text-align: right;\n",
       "    }\n",
       "</style>\n",
       "<table border=\"1\" class=\"dataframe\">\n",
       "  <thead>\n",
       "    <tr style=\"text-align: right;\">\n",
       "      <th></th>\n",
       "      <th>ph</th>\n",
       "      <th>Hardness</th>\n",
       "      <th>Solids</th>\n",
       "      <th>Chloramines</th>\n",
       "      <th>Sulfate</th>\n",
       "      <th>Conductivity</th>\n",
       "      <th>Organic_carbon</th>\n",
       "      <th>Trihalomethanes</th>\n",
       "      <th>Turbidity</th>\n",
       "      <th>ID</th>\n",
       "    </tr>\n",
       "  </thead>\n",
       "  <tbody>\n",
       "    <tr>\n",
       "      <th>0</th>\n",
       "      <td>7.050005</td>\n",
       "      <td>183.521107</td>\n",
       "      <td>20461.252710</td>\n",
       "      <td>7.333212</td>\n",
       "      <td>333.119476</td>\n",
       "      <td>356.369022</td>\n",
       "      <td>20.179029</td>\n",
       "      <td>67.019903</td>\n",
       "      <td>4.886634</td>\n",
       "      <td>2947</td>\n",
       "    </tr>\n",
       "    <tr>\n",
       "      <th>1</th>\n",
       "      <td>6.643159</td>\n",
       "      <td>188.913541</td>\n",
       "      <td>32873.820022</td>\n",
       "      <td>6.791509</td>\n",
       "      <td>333.848842</td>\n",
       "      <td>336.561501</td>\n",
       "      <td>14.706810</td>\n",
       "      <td>67.844849</td>\n",
       "      <td>4.562198</td>\n",
       "      <td>2782</td>\n",
       "    </tr>\n",
       "    <tr>\n",
       "      <th>2</th>\n",
       "      <td>7.846058</td>\n",
       "      <td>224.058877</td>\n",
       "      <td>23264.109968</td>\n",
       "      <td>5.922367</td>\n",
       "      <td>300.402620</td>\n",
       "      <td>387.971336</td>\n",
       "      <td>13.406737</td>\n",
       "      <td>43.075186</td>\n",
       "      <td>2.487969</td>\n",
       "      <td>1644</td>\n",
       "    </tr>\n",
       "    <tr>\n",
       "      <th>3</th>\n",
       "      <td>7.160467</td>\n",
       "      <td>183.089310</td>\n",
       "      <td>6743.346066</td>\n",
       "      <td>3.803036</td>\n",
       "      <td>277.599099</td>\n",
       "      <td>428.036344</td>\n",
       "      <td>9.799625</td>\n",
       "      <td>90.035374</td>\n",
       "      <td>3.884891</td>\n",
       "      <td>70</td>\n",
       "    </tr>\n",
       "    <tr>\n",
       "      <th>4</th>\n",
       "      <td>6.615350</td>\n",
       "      <td>179.240661</td>\n",
       "      <td>26392.863612</td>\n",
       "      <td>9.309160</td>\n",
       "      <td>333.413519</td>\n",
       "      <td>496.363562</td>\n",
       "      <td>12.786595</td>\n",
       "      <td>78.262369</td>\n",
       "      <td>4.453443</td>\n",
       "      <td>2045</td>\n",
       "    </tr>\n",
       "    <tr>\n",
       "      <th>...</th>\n",
       "      <td>...</td>\n",
       "      <td>...</td>\n",
       "      <td>...</td>\n",
       "      <td>...</td>\n",
       "      <td>...</td>\n",
       "      <td>...</td>\n",
       "      <td>...</td>\n",
       "      <td>...</td>\n",
       "      <td>...</td>\n",
       "      <td>...</td>\n",
       "    </tr>\n",
       "    <tr>\n",
       "      <th>814</th>\n",
       "      <td>5.946161</td>\n",
       "      <td>190.551572</td>\n",
       "      <td>12767.656229</td>\n",
       "      <td>8.939748</td>\n",
       "      <td>323.742827</td>\n",
       "      <td>499.937502</td>\n",
       "      <td>12.415430</td>\n",
       "      <td>54.095581</td>\n",
       "      <td>4.903632</td>\n",
       "      <td>2580</td>\n",
       "    </tr>\n",
       "    <tr>\n",
       "      <th>815</th>\n",
       "      <td>7.050005</td>\n",
       "      <td>217.944979</td>\n",
       "      <td>37820.047327</td>\n",
       "      <td>8.299339</td>\n",
       "      <td>333.413519</td>\n",
       "      <td>367.570082</td>\n",
       "      <td>15.421034</td>\n",
       "      <td>36.446614</td>\n",
       "      <td>2.994780</td>\n",
       "      <td>2627</td>\n",
       "    </tr>\n",
       "    <tr>\n",
       "      <th>816</th>\n",
       "      <td>5.573201</td>\n",
       "      <td>229.174987</td>\n",
       "      <td>15613.160533</td>\n",
       "      <td>4.157902</td>\n",
       "      <td>383.481116</td>\n",
       "      <td>409.066577</td>\n",
       "      <td>10.751904</td>\n",
       "      <td>63.758516</td>\n",
       "      <td>3.599625</td>\n",
       "      <td>2246</td>\n",
       "    </tr>\n",
       "    <tr>\n",
       "      <th>817</th>\n",
       "      <td>8.635849</td>\n",
       "      <td>203.361523</td>\n",
       "      <td>13672.091764</td>\n",
       "      <td>4.563009</td>\n",
       "      <td>303.309771</td>\n",
       "      <td>474.607645</td>\n",
       "      <td>12.363817</td>\n",
       "      <td>62.798309</td>\n",
       "      <td>4.401425</td>\n",
       "      <td>7</td>\n",
       "    </tr>\n",
       "    <tr>\n",
       "      <th>818</th>\n",
       "      <td>6.714777</td>\n",
       "      <td>185.909303</td>\n",
       "      <td>34558.402667</td>\n",
       "      <td>6.554858</td>\n",
       "      <td>360.508237</td>\n",
       "      <td>303.968203</td>\n",
       "      <td>10.226470</td>\n",
       "      <td>50.214011</td>\n",
       "      <td>4.684853</td>\n",
       "      <td>3132</td>\n",
       "    </tr>\n",
       "  </tbody>\n",
       "</table>\n",
       "<p>819 rows × 10 columns</p>\n",
       "</div>"
      ],
      "text/plain": [
       "           ph    Hardness        Solids  Chloramines     Sulfate  \\\n",
       "0    7.050005  183.521107  20461.252710     7.333212  333.119476   \n",
       "1    6.643159  188.913541  32873.820022     6.791509  333.848842   \n",
       "2    7.846058  224.058877  23264.109968     5.922367  300.402620   \n",
       "3    7.160467  183.089310   6743.346066     3.803036  277.599099   \n",
       "4    6.615350  179.240661  26392.863612     9.309160  333.413519   \n",
       "..        ...         ...           ...          ...         ...   \n",
       "814  5.946161  190.551572  12767.656229     8.939748  323.742827   \n",
       "815  7.050005  217.944979  37820.047327     8.299339  333.413519   \n",
       "816  5.573201  229.174987  15613.160533     4.157902  383.481116   \n",
       "817  8.635849  203.361523  13672.091764     4.563009  303.309771   \n",
       "818  6.714777  185.909303  34558.402667     6.554858  360.508237   \n",
       "\n",
       "     Conductivity  Organic_carbon  Trihalomethanes  Turbidity    ID  \n",
       "0      356.369022       20.179029        67.019903   4.886634  2947  \n",
       "1      336.561501       14.706810        67.844849   4.562198  2782  \n",
       "2      387.971336       13.406737        43.075186   2.487969  1644  \n",
       "3      428.036344        9.799625        90.035374   3.884891    70  \n",
       "4      496.363562       12.786595        78.262369   4.453443  2045  \n",
       "..            ...             ...              ...        ...   ...  \n",
       "814    499.937502       12.415430        54.095581   4.903632  2580  \n",
       "815    367.570082       15.421034        36.446614   2.994780  2627  \n",
       "816    409.066577       10.751904        63.758516   3.599625  2246  \n",
       "817    474.607645       12.363817        62.798309   4.401425     7  \n",
       "818    303.968203       10.226470        50.214011   4.684853  3132  \n",
       "\n",
       "[819 rows x 10 columns]"
      ]
     },
     "execution_count": 178,
     "metadata": {},
     "output_type": "execute_result"
    }
   ],
   "source": [
    "df_test"
   ]
  },
  {
   "cell_type": "code",
   "execution_count": 179,
   "id": "148ac078",
   "metadata": {},
   "outputs": [],
   "source": [
    "test_water = df_test.iloc[:, 0:9]"
   ]
  },
  {
   "cell_type": "code",
   "execution_count": 180,
   "id": "87b912e4",
   "metadata": {},
   "outputs": [
    {
     "data": {
      "text/html": [
       "<div>\n",
       "<style scoped>\n",
       "    .dataframe tbody tr th:only-of-type {\n",
       "        vertical-align: middle;\n",
       "    }\n",
       "\n",
       "    .dataframe tbody tr th {\n",
       "        vertical-align: top;\n",
       "    }\n",
       "\n",
       "    .dataframe thead th {\n",
       "        text-align: right;\n",
       "    }\n",
       "</style>\n",
       "<table border=\"1\" class=\"dataframe\">\n",
       "  <thead>\n",
       "    <tr style=\"text-align: right;\">\n",
       "      <th></th>\n",
       "      <th>ph</th>\n",
       "      <th>Hardness</th>\n",
       "      <th>Solids</th>\n",
       "      <th>Chloramines</th>\n",
       "      <th>Sulfate</th>\n",
       "      <th>Conductivity</th>\n",
       "      <th>Organic_carbon</th>\n",
       "      <th>Trihalomethanes</th>\n",
       "      <th>Turbidity</th>\n",
       "    </tr>\n",
       "  </thead>\n",
       "  <tbody>\n",
       "    <tr>\n",
       "      <th>0</th>\n",
       "      <td>7.050005</td>\n",
       "      <td>183.521107</td>\n",
       "      <td>20461.252710</td>\n",
       "      <td>7.333212</td>\n",
       "      <td>333.119476</td>\n",
       "      <td>356.369022</td>\n",
       "      <td>20.179029</td>\n",
       "      <td>67.019903</td>\n",
       "      <td>4.886634</td>\n",
       "    </tr>\n",
       "    <tr>\n",
       "      <th>1</th>\n",
       "      <td>6.643159</td>\n",
       "      <td>188.913541</td>\n",
       "      <td>32873.820022</td>\n",
       "      <td>6.791509</td>\n",
       "      <td>333.848842</td>\n",
       "      <td>336.561501</td>\n",
       "      <td>14.706810</td>\n",
       "      <td>67.844849</td>\n",
       "      <td>4.562198</td>\n",
       "    </tr>\n",
       "    <tr>\n",
       "      <th>2</th>\n",
       "      <td>7.846058</td>\n",
       "      <td>224.058877</td>\n",
       "      <td>23264.109968</td>\n",
       "      <td>5.922367</td>\n",
       "      <td>300.402620</td>\n",
       "      <td>387.971336</td>\n",
       "      <td>13.406737</td>\n",
       "      <td>43.075186</td>\n",
       "      <td>2.487969</td>\n",
       "    </tr>\n",
       "    <tr>\n",
       "      <th>3</th>\n",
       "      <td>7.160467</td>\n",
       "      <td>183.089310</td>\n",
       "      <td>6743.346066</td>\n",
       "      <td>3.803036</td>\n",
       "      <td>277.599099</td>\n",
       "      <td>428.036344</td>\n",
       "      <td>9.799625</td>\n",
       "      <td>90.035374</td>\n",
       "      <td>3.884891</td>\n",
       "    </tr>\n",
       "    <tr>\n",
       "      <th>4</th>\n",
       "      <td>6.615350</td>\n",
       "      <td>179.240661</td>\n",
       "      <td>26392.863612</td>\n",
       "      <td>9.309160</td>\n",
       "      <td>333.413519</td>\n",
       "      <td>496.363562</td>\n",
       "      <td>12.786595</td>\n",
       "      <td>78.262369</td>\n",
       "      <td>4.453443</td>\n",
       "    </tr>\n",
       "    <tr>\n",
       "      <th>...</th>\n",
       "      <td>...</td>\n",
       "      <td>...</td>\n",
       "      <td>...</td>\n",
       "      <td>...</td>\n",
       "      <td>...</td>\n",
       "      <td>...</td>\n",
       "      <td>...</td>\n",
       "      <td>...</td>\n",
       "      <td>...</td>\n",
       "    </tr>\n",
       "    <tr>\n",
       "      <th>814</th>\n",
       "      <td>5.946161</td>\n",
       "      <td>190.551572</td>\n",
       "      <td>12767.656229</td>\n",
       "      <td>8.939748</td>\n",
       "      <td>323.742827</td>\n",
       "      <td>499.937502</td>\n",
       "      <td>12.415430</td>\n",
       "      <td>54.095581</td>\n",
       "      <td>4.903632</td>\n",
       "    </tr>\n",
       "    <tr>\n",
       "      <th>815</th>\n",
       "      <td>7.050005</td>\n",
       "      <td>217.944979</td>\n",
       "      <td>37820.047327</td>\n",
       "      <td>8.299339</td>\n",
       "      <td>333.413519</td>\n",
       "      <td>367.570082</td>\n",
       "      <td>15.421034</td>\n",
       "      <td>36.446614</td>\n",
       "      <td>2.994780</td>\n",
       "    </tr>\n",
       "    <tr>\n",
       "      <th>816</th>\n",
       "      <td>5.573201</td>\n",
       "      <td>229.174987</td>\n",
       "      <td>15613.160533</td>\n",
       "      <td>4.157902</td>\n",
       "      <td>383.481116</td>\n",
       "      <td>409.066577</td>\n",
       "      <td>10.751904</td>\n",
       "      <td>63.758516</td>\n",
       "      <td>3.599625</td>\n",
       "    </tr>\n",
       "    <tr>\n",
       "      <th>817</th>\n",
       "      <td>8.635849</td>\n",
       "      <td>203.361523</td>\n",
       "      <td>13672.091764</td>\n",
       "      <td>4.563009</td>\n",
       "      <td>303.309771</td>\n",
       "      <td>474.607645</td>\n",
       "      <td>12.363817</td>\n",
       "      <td>62.798309</td>\n",
       "      <td>4.401425</td>\n",
       "    </tr>\n",
       "    <tr>\n",
       "      <th>818</th>\n",
       "      <td>6.714777</td>\n",
       "      <td>185.909303</td>\n",
       "      <td>34558.402667</td>\n",
       "      <td>6.554858</td>\n",
       "      <td>360.508237</td>\n",
       "      <td>303.968203</td>\n",
       "      <td>10.226470</td>\n",
       "      <td>50.214011</td>\n",
       "      <td>4.684853</td>\n",
       "    </tr>\n",
       "  </tbody>\n",
       "</table>\n",
       "<p>819 rows × 9 columns</p>\n",
       "</div>"
      ],
      "text/plain": [
       "           ph    Hardness        Solids  Chloramines     Sulfate  \\\n",
       "0    7.050005  183.521107  20461.252710     7.333212  333.119476   \n",
       "1    6.643159  188.913541  32873.820022     6.791509  333.848842   \n",
       "2    7.846058  224.058877  23264.109968     5.922367  300.402620   \n",
       "3    7.160467  183.089310   6743.346066     3.803036  277.599099   \n",
       "4    6.615350  179.240661  26392.863612     9.309160  333.413519   \n",
       "..        ...         ...           ...          ...         ...   \n",
       "814  5.946161  190.551572  12767.656229     8.939748  323.742827   \n",
       "815  7.050005  217.944979  37820.047327     8.299339  333.413519   \n",
       "816  5.573201  229.174987  15613.160533     4.157902  383.481116   \n",
       "817  8.635849  203.361523  13672.091764     4.563009  303.309771   \n",
       "818  6.714777  185.909303  34558.402667     6.554858  360.508237   \n",
       "\n",
       "     Conductivity  Organic_carbon  Trihalomethanes  Turbidity  \n",
       "0      356.369022       20.179029        67.019903   4.886634  \n",
       "1      336.561501       14.706810        67.844849   4.562198  \n",
       "2      387.971336       13.406737        43.075186   2.487969  \n",
       "3      428.036344        9.799625        90.035374   3.884891  \n",
       "4      496.363562       12.786595        78.262369   4.453443  \n",
       "..            ...             ...              ...        ...  \n",
       "814    499.937502       12.415430        54.095581   4.903632  \n",
       "815    367.570082       15.421034        36.446614   2.994780  \n",
       "816    409.066577       10.751904        63.758516   3.599625  \n",
       "817    474.607645       12.363817        62.798309   4.401425  \n",
       "818    303.968203       10.226470        50.214011   4.684853  \n",
       "\n",
       "[819 rows x 9 columns]"
      ]
     },
     "execution_count": 180,
     "metadata": {},
     "output_type": "execute_result"
    }
   ],
   "source": [
    "test_water"
   ]
  },
  {
   "cell_type": "code",
   "execution_count": 181,
   "id": "4bd0c2de",
   "metadata": {},
   "outputs": [],
   "source": [
    "predicted_test = boost.predict(test_water)"
   ]
  },
  {
   "cell_type": "code",
   "execution_count": 183,
   "id": "bb105363",
   "metadata": {},
   "outputs": [
    {
     "data": {
      "text/plain": [
       "array([0, 0, 0, 0, 0, 0, 0, 0, 0, 0, 0, 0, 0, 0, 0, 0, 0, 0, 0, 0, 0, 0,\n",
       "       0, 0, 0, 0, 0, 0, 0, 0, 0, 0, 0, 0, 0, 0, 0, 1, 0, 0, 0, 0, 0, 0,\n",
       "       0, 0, 0, 0, 0, 0, 0, 0, 0, 0, 0, 0, 0, 0, 0, 0, 0, 0, 0, 0, 0, 0,\n",
       "       0, 0, 0, 0, 1, 0, 0, 0, 0, 0, 0, 0, 0, 0, 1, 0, 0, 0, 0, 0, 0, 0,\n",
       "       0, 0, 0, 0, 0, 0, 0, 0, 0, 0, 0, 0, 0, 0, 0, 0, 0, 0, 0, 0, 0, 0,\n",
       "       0, 0, 0, 0, 0, 0, 0, 0, 0, 0, 0, 0, 0, 0, 0, 1, 0, 0, 0, 0, 0, 0,\n",
       "       0, 0, 0, 0, 0, 0, 0, 0, 0, 0, 0, 0, 0, 0, 0, 0, 0, 0, 0, 0, 0, 0,\n",
       "       0, 0, 0, 0, 0, 0, 0, 0, 0, 0, 0, 0, 0, 0, 0, 0, 0, 0, 0, 0, 0, 0,\n",
       "       0, 0, 0, 0, 0, 0, 0, 0, 0, 0, 0, 0, 0, 0, 0, 0, 0, 0, 0, 0, 0, 0,\n",
       "       0, 0, 0, 0, 0, 0, 0, 0, 0, 0, 0, 0, 0, 0, 0, 0, 0, 0, 0, 0, 0, 0,\n",
       "       1, 0, 0, 0, 0, 0, 0, 0, 0, 0, 0, 0, 0, 0, 0, 0, 0, 0, 0, 0, 0, 0,\n",
       "       0, 0, 0, 0, 0, 0, 0, 0, 0, 0, 0, 0, 0, 0, 0, 0, 0, 0, 0, 0, 0, 0,\n",
       "       0, 0, 0, 0, 0, 0, 0, 0, 0, 0, 0, 0, 0, 0, 1, 0, 0, 0, 0, 0, 0, 0,\n",
       "       0, 0, 0, 0, 0, 0, 0, 0, 0, 0, 0, 0, 0, 0, 0, 0, 0, 0, 0, 0, 0, 0,\n",
       "       0, 0, 0, 0, 0, 0, 0, 0, 0, 0, 0, 0, 0, 0, 0, 0, 0, 0, 0, 0, 0, 0,\n",
       "       0, 0, 0, 0, 0, 0, 0, 0, 0, 0, 0, 1, 0, 0, 0, 0, 0, 0, 0, 0, 0, 0,\n",
       "       0, 0, 0, 0, 0, 0, 0, 0, 0, 0, 0, 0, 0, 0, 0, 0, 0, 0, 0, 0, 0, 0,\n",
       "       0, 0, 0, 0, 0, 0, 1, 0, 0, 0, 0, 0, 0, 0, 0, 0, 0, 0, 0, 0, 0, 0,\n",
       "       0, 0, 0, 0, 0, 0, 0, 0, 0, 0, 0, 0, 0, 0, 0, 0, 0, 0, 0, 0, 0, 0,\n",
       "       0, 0, 0, 0, 0, 0, 0, 0, 0, 0, 0, 0, 0, 0, 0, 0, 0, 0, 0, 0, 0, 0,\n",
       "       0, 0, 0, 0, 0, 0, 0, 0, 0, 0, 0, 0, 0, 0, 0, 0, 0, 0, 0, 0, 0, 0,\n",
       "       0, 0, 0, 0, 0, 0, 0, 0, 0, 0, 0, 0, 0, 0, 0, 0, 0, 0, 0, 0, 0, 0,\n",
       "       0, 0, 0, 0, 0, 0, 0, 0, 0, 0, 0, 0, 0, 0, 0, 0, 0, 0, 0, 0, 0, 0,\n",
       "       0, 0, 0, 0, 0, 0, 0, 0, 0, 0, 0, 0, 0, 0, 0, 0, 0, 0, 0, 0, 0, 0,\n",
       "       0, 0, 0, 0, 0, 0, 0, 0, 0, 0, 0, 0, 0, 0, 0, 0, 0, 0, 0, 0, 0, 0,\n",
       "       0, 0, 0, 0, 0, 0, 0, 0, 0, 0, 0, 0, 0, 0, 0, 0, 0, 0, 0, 0, 0, 0,\n",
       "       0, 0, 0, 0, 0, 0, 0, 0, 0, 0, 0, 0, 0, 0, 0, 0, 0, 0, 0, 0, 0, 0,\n",
       "       0, 0, 0, 0, 0, 0, 0, 0, 0, 0, 0, 0, 0, 0, 0, 0, 0, 0, 0, 0, 0, 0,\n",
       "       0, 0, 0, 0, 0, 0, 0, 0, 0, 0, 0, 0, 0, 0, 0, 0, 0, 0, 0, 0, 0, 0,\n",
       "       0, 0, 0, 0, 0, 0, 0, 0, 0, 0, 0, 0, 0, 0, 0, 0, 0, 0, 0, 0, 0, 0,\n",
       "       0, 0, 0, 0, 0, 0, 0, 0, 0, 0, 0, 0, 0, 0, 1, 0, 0, 0, 0, 0, 0, 0,\n",
       "       0, 1, 0, 0, 0, 0, 0, 0, 0, 0, 0, 0, 0, 0, 0, 0, 0, 0, 0, 0, 0, 0,\n",
       "       0, 0, 0, 0, 0, 0, 0, 0, 0, 0, 0, 0, 0, 0, 0, 0, 0, 0, 0, 0, 0, 0,\n",
       "       0, 0, 0, 0, 0, 0, 0, 0, 0, 0, 0, 0, 0, 0, 0, 0, 0, 0, 0, 0, 0, 0,\n",
       "       0, 0, 0, 0, 0, 0, 0, 0, 0, 0, 0, 0, 0, 0, 0, 0, 0, 0, 0, 0, 0, 0,\n",
       "       0, 0, 0, 0, 0, 0, 0, 0, 0, 0, 0, 0, 0, 0, 0, 0, 0, 0, 0, 0, 0, 0,\n",
       "       0, 0, 0, 0, 0, 0, 0, 0, 0, 0, 0, 0, 0, 0, 0, 0, 0, 0, 0, 0, 0, 0,\n",
       "       0, 0, 0, 0, 0])"
      ]
     },
     "execution_count": 183,
     "metadata": {},
     "output_type": "execute_result"
    }
   ],
   "source": [
    "predicted_test"
   ]
  },
  {
   "cell_type": "code",
   "execution_count": 184,
   "id": "9816b3e9",
   "metadata": {},
   "outputs": [],
   "source": [
    "test_water['Potability'] = predicted_test"
   ]
  },
  {
   "cell_type": "code",
   "execution_count": 185,
   "id": "bd81d57c",
   "metadata": {},
   "outputs": [
    {
     "data": {
      "text/html": [
       "<div>\n",
       "<style scoped>\n",
       "    .dataframe tbody tr th:only-of-type {\n",
       "        vertical-align: middle;\n",
       "    }\n",
       "\n",
       "    .dataframe tbody tr th {\n",
       "        vertical-align: top;\n",
       "    }\n",
       "\n",
       "    .dataframe thead th {\n",
       "        text-align: right;\n",
       "    }\n",
       "</style>\n",
       "<table border=\"1\" class=\"dataframe\">\n",
       "  <thead>\n",
       "    <tr style=\"text-align: right;\">\n",
       "      <th></th>\n",
       "      <th>ph</th>\n",
       "      <th>Hardness</th>\n",
       "      <th>Solids</th>\n",
       "      <th>Chloramines</th>\n",
       "      <th>Sulfate</th>\n",
       "      <th>Conductivity</th>\n",
       "      <th>Organic_carbon</th>\n",
       "      <th>Trihalomethanes</th>\n",
       "      <th>Turbidity</th>\n",
       "      <th>Potability</th>\n",
       "    </tr>\n",
       "  </thead>\n",
       "  <tbody>\n",
       "    <tr>\n",
       "      <th>0</th>\n",
       "      <td>7.050005</td>\n",
       "      <td>183.521107</td>\n",
       "      <td>20461.252710</td>\n",
       "      <td>7.333212</td>\n",
       "      <td>333.119476</td>\n",
       "      <td>356.369022</td>\n",
       "      <td>20.179029</td>\n",
       "      <td>67.019903</td>\n",
       "      <td>4.886634</td>\n",
       "      <td>0</td>\n",
       "    </tr>\n",
       "    <tr>\n",
       "      <th>1</th>\n",
       "      <td>6.643159</td>\n",
       "      <td>188.913541</td>\n",
       "      <td>32873.820022</td>\n",
       "      <td>6.791509</td>\n",
       "      <td>333.848842</td>\n",
       "      <td>336.561501</td>\n",
       "      <td>14.706810</td>\n",
       "      <td>67.844849</td>\n",
       "      <td>4.562198</td>\n",
       "      <td>0</td>\n",
       "    </tr>\n",
       "    <tr>\n",
       "      <th>2</th>\n",
       "      <td>7.846058</td>\n",
       "      <td>224.058877</td>\n",
       "      <td>23264.109968</td>\n",
       "      <td>5.922367</td>\n",
       "      <td>300.402620</td>\n",
       "      <td>387.971336</td>\n",
       "      <td>13.406737</td>\n",
       "      <td>43.075186</td>\n",
       "      <td>2.487969</td>\n",
       "      <td>0</td>\n",
       "    </tr>\n",
       "    <tr>\n",
       "      <th>3</th>\n",
       "      <td>7.160467</td>\n",
       "      <td>183.089310</td>\n",
       "      <td>6743.346066</td>\n",
       "      <td>3.803036</td>\n",
       "      <td>277.599099</td>\n",
       "      <td>428.036344</td>\n",
       "      <td>9.799625</td>\n",
       "      <td>90.035374</td>\n",
       "      <td>3.884891</td>\n",
       "      <td>0</td>\n",
       "    </tr>\n",
       "    <tr>\n",
       "      <th>4</th>\n",
       "      <td>6.615350</td>\n",
       "      <td>179.240661</td>\n",
       "      <td>26392.863612</td>\n",
       "      <td>9.309160</td>\n",
       "      <td>333.413519</td>\n",
       "      <td>496.363562</td>\n",
       "      <td>12.786595</td>\n",
       "      <td>78.262369</td>\n",
       "      <td>4.453443</td>\n",
       "      <td>0</td>\n",
       "    </tr>\n",
       "  </tbody>\n",
       "</table>\n",
       "</div>"
      ],
      "text/plain": [
       "         ph    Hardness        Solids  Chloramines     Sulfate  Conductivity  \\\n",
       "0  7.050005  183.521107  20461.252710     7.333212  333.119476    356.369022   \n",
       "1  6.643159  188.913541  32873.820022     6.791509  333.848842    336.561501   \n",
       "2  7.846058  224.058877  23264.109968     5.922367  300.402620    387.971336   \n",
       "3  7.160467  183.089310   6743.346066     3.803036  277.599099    428.036344   \n",
       "4  6.615350  179.240661  26392.863612     9.309160  333.413519    496.363562   \n",
       "\n",
       "   Organic_carbon  Trihalomethanes  Turbidity  Potability  \n",
       "0       20.179029        67.019903   4.886634           0  \n",
       "1       14.706810        67.844849   4.562198           0  \n",
       "2       13.406737        43.075186   2.487969           0  \n",
       "3        9.799625        90.035374   3.884891           0  \n",
       "4       12.786595        78.262369   4.453443           0  "
      ]
     },
     "execution_count": 185,
     "metadata": {},
     "output_type": "execute_result"
    }
   ],
   "source": [
    "test_water.head()"
   ]
  },
  {
   "cell_type": "code",
   "execution_count": 186,
   "id": "29e8820d",
   "metadata": {},
   "outputs": [],
   "source": [
    "test_water.to_csv('submission_water.csv', index = False, header = False)"
   ]
  },
  {
   "cell_type": "code",
   "execution_count": null,
   "id": "fccae944",
   "metadata": {},
   "outputs": [],
   "source": []
  },
  {
   "cell_type": "code",
   "execution_count": null,
   "id": "1d68922a",
   "metadata": {},
   "outputs": [],
   "source": []
  },
  {
   "cell_type": "code",
   "execution_count": null,
   "id": "c8bb16b0",
   "metadata": {},
   "outputs": [],
   "source": []
  }
 ],
 "metadata": {
  "kernelspec": {
   "display_name": "Python 3 (ipykernel)",
   "language": "python",
   "name": "python3"
  },
  "language_info": {
   "codemirror_mode": {
    "name": "ipython",
    "version": 3
   },
   "file_extension": ".py",
   "mimetype": "text/x-python",
   "name": "python",
   "nbconvert_exporter": "python",
   "pygments_lexer": "ipython3",
   "version": "3.9.13"
  }
 },
 "nbformat": 4,
 "nbformat_minor": 5
}
