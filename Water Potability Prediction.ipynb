{
 "cells": [
  {
   "cell_type": "code",
   "execution_count": 58,
   "id": "313256a0",
   "metadata": {},
   "outputs": [],
   "source": [
    "import pandas as pd\n",
    "import numpy as np\n",
    "import seaborn as sns\n",
    "import matplotlib.pyplot as plt\n",
    "import warnings\n",
    "warnings.filterwarnings(\"ignore\")\n",
    "\n",
    "\n",
    "from sklearn.metrics import accuracy_score, classification_report, confusion_matrix"
   ]
  },
  {
   "cell_type": "code",
   "execution_count": 59,
   "id": "590f2563",
   "metadata": {},
   "outputs": [],
   "source": [
    "train_df = pd.read_csv('train_data.csv')\n",
    "test_df = pd.read_csv('test_data.csv')"
   ]
  },
  {
   "cell_type": "code",
   "execution_count": 60,
   "id": "2fe25719",
   "metadata": {},
   "outputs": [
    {
     "data": {
      "text/html": [
       "<div>\n",
       "<style scoped>\n",
       "    .dataframe tbody tr th:only-of-type {\n",
       "        vertical-align: middle;\n",
       "    }\n",
       "\n",
       "    .dataframe tbody tr th {\n",
       "        vertical-align: top;\n",
       "    }\n",
       "\n",
       "    .dataframe thead th {\n",
       "        text-align: right;\n",
       "    }\n",
       "</style>\n",
       "<table border=\"1\" class=\"dataframe\">\n",
       "  <thead>\n",
       "    <tr style=\"text-align: right;\">\n",
       "      <th></th>\n",
       "      <th>ph</th>\n",
       "      <th>Hardness</th>\n",
       "      <th>Solids</th>\n",
       "      <th>Chloramines</th>\n",
       "      <th>Sulfate</th>\n",
       "      <th>Conductivity</th>\n",
       "      <th>Organic_carbon</th>\n",
       "      <th>Trihalomethanes</th>\n",
       "      <th>Turbidity</th>\n",
       "      <th>ID</th>\n",
       "      <th>Potability</th>\n",
       "    </tr>\n",
       "  </thead>\n",
       "  <tbody>\n",
       "    <tr>\n",
       "      <th>0</th>\n",
       "      <td>NaN</td>\n",
       "      <td>202.569467</td>\n",
       "      <td>22256.950365</td>\n",
       "      <td>6.913501</td>\n",
       "      <td>304.951498</td>\n",
       "      <td>434.198436</td>\n",
       "      <td>13.696893</td>\n",
       "      <td>64.205667</td>\n",
       "      <td>4.478070</td>\n",
       "      <td>2500</td>\n",
       "      <td>0</td>\n",
       "    </tr>\n",
       "    <tr>\n",
       "      <th>1</th>\n",
       "      <td>5.319769</td>\n",
       "      <td>204.202072</td>\n",
       "      <td>22390.795566</td>\n",
       "      <td>8.053559</td>\n",
       "      <td>315.027505</td>\n",
       "      <td>399.119025</td>\n",
       "      <td>13.974085</td>\n",
       "      <td>83.157997</td>\n",
       "      <td>2.925732</td>\n",
       "      <td>1044</td>\n",
       "      <td>0</td>\n",
       "    </tr>\n",
       "    <tr>\n",
       "      <th>2</th>\n",
       "      <td>7.350379</td>\n",
       "      <td>193.633367</td>\n",
       "      <td>26736.085567</td>\n",
       "      <td>10.416589</td>\n",
       "      <td>309.416883</td>\n",
       "      <td>557.495685</td>\n",
       "      <td>16.519722</td>\n",
       "      <td>61.077383</td>\n",
       "      <td>3.663922</td>\n",
       "      <td>415</td>\n",
       "      <td>0</td>\n",
       "    </tr>\n",
       "    <tr>\n",
       "      <th>3</th>\n",
       "      <td>7.612517</td>\n",
       "      <td>225.492793</td>\n",
       "      <td>14812.970645</td>\n",
       "      <td>7.982595</td>\n",
       "      <td>356.690174</td>\n",
       "      <td>341.074925</td>\n",
       "      <td>14.994662</td>\n",
       "      <td>55.893916</td>\n",
       "      <td>2.939593</td>\n",
       "      <td>2841</td>\n",
       "      <td>1</td>\n",
       "    </tr>\n",
       "    <tr>\n",
       "      <th>4</th>\n",
       "      <td>7.122637</td>\n",
       "      <td>183.402648</td>\n",
       "      <td>31295.902410</td>\n",
       "      <td>4.425026</td>\n",
       "      <td>NaN</td>\n",
       "      <td>411.616070</td>\n",
       "      <td>14.066057</td>\n",
       "      <td>77.185792</td>\n",
       "      <td>3.750447</td>\n",
       "      <td>2567</td>\n",
       "      <td>0</td>\n",
       "    </tr>\n",
       "  </tbody>\n",
       "</table>\n",
       "</div>"
      ],
      "text/plain": [
       "         ph    Hardness        Solids  Chloramines     Sulfate  Conductivity  \\\n",
       "0       NaN  202.569467  22256.950365     6.913501  304.951498    434.198436   \n",
       "1  5.319769  204.202072  22390.795566     8.053559  315.027505    399.119025   \n",
       "2  7.350379  193.633367  26736.085567    10.416589  309.416883    557.495685   \n",
       "3  7.612517  225.492793  14812.970645     7.982595  356.690174    341.074925   \n",
       "4  7.122637  183.402648  31295.902410     4.425026         NaN    411.616070   \n",
       "\n",
       "   Organic_carbon  Trihalomethanes  Turbidity    ID  Potability  \n",
       "0       13.696893        64.205667   4.478070  2500           0  \n",
       "1       13.974085        83.157997   2.925732  1044           0  \n",
       "2       16.519722        61.077383   3.663922   415           0  \n",
       "3       14.994662        55.893916   2.939593  2841           1  \n",
       "4       14.066057        77.185792   3.750447  2567           0  "
      ]
     },
     "execution_count": 60,
     "metadata": {},
     "output_type": "execute_result"
    }
   ],
   "source": [
    "train_df.head()"
   ]
  },
  {
   "cell_type": "code",
   "execution_count": 61,
   "id": "0c05a10f",
   "metadata": {},
   "outputs": [
    {
     "name": "stdout",
     "output_type": "stream",
     "text": [
      "<class 'pandas.core.frame.DataFrame'>\n",
      "RangeIndex: 2457 entries, 0 to 2456\n",
      "Data columns (total 11 columns):\n",
      " #   Column           Non-Null Count  Dtype  \n",
      "---  ------           --------------  -----  \n",
      " 0   ph               2085 non-null   float64\n",
      " 1   Hardness         2457 non-null   float64\n",
      " 2   Solids           2457 non-null   float64\n",
      " 3   Chloramines      2457 non-null   float64\n",
      " 4   Sulfate          1856 non-null   float64\n",
      " 5   Conductivity     2457 non-null   float64\n",
      " 6   Organic_carbon   2457 non-null   float64\n",
      " 7   Trihalomethanes  2339 non-null   float64\n",
      " 8   Turbidity        2457 non-null   float64\n",
      " 9   ID               2457 non-null   int64  \n",
      " 10  Potability       2457 non-null   int64  \n",
      "dtypes: float64(9), int64(2)\n",
      "memory usage: 211.3 KB\n"
     ]
    }
   ],
   "source": [
    "train_df.info()"
   ]
  },
  {
   "cell_type": "code",
   "execution_count": 62,
   "id": "c2e29100",
   "metadata": {},
   "outputs": [
    {
     "data": {
      "text/html": [
       "<div>\n",
       "<style scoped>\n",
       "    .dataframe tbody tr th:only-of-type {\n",
       "        vertical-align: middle;\n",
       "    }\n",
       "\n",
       "    .dataframe tbody tr th {\n",
       "        vertical-align: top;\n",
       "    }\n",
       "\n",
       "    .dataframe thead th {\n",
       "        text-align: right;\n",
       "    }\n",
       "</style>\n",
       "<table border=\"1\" class=\"dataframe\">\n",
       "  <thead>\n",
       "    <tr style=\"text-align: right;\">\n",
       "      <th></th>\n",
       "      <th>ph</th>\n",
       "      <th>Hardness</th>\n",
       "      <th>Solids</th>\n",
       "      <th>Chloramines</th>\n",
       "      <th>Sulfate</th>\n",
       "      <th>Conductivity</th>\n",
       "      <th>Organic_carbon</th>\n",
       "      <th>Trihalomethanes</th>\n",
       "      <th>Turbidity</th>\n",
       "      <th>ID</th>\n",
       "      <th>Potability</th>\n",
       "    </tr>\n",
       "  </thead>\n",
       "  <tbody>\n",
       "    <tr>\n",
       "      <th>count</th>\n",
       "      <td>2085.000000</td>\n",
       "      <td>2457.000000</td>\n",
       "      <td>2457.000000</td>\n",
       "      <td>2457.000000</td>\n",
       "      <td>1856.000000</td>\n",
       "      <td>2457.000000</td>\n",
       "      <td>2457.000000</td>\n",
       "      <td>2339.000000</td>\n",
       "      <td>2457.000000</td>\n",
       "      <td>2457.000000</td>\n",
       "      <td>2457.000000</td>\n",
       "    </tr>\n",
       "    <tr>\n",
       "      <th>mean</th>\n",
       "      <td>7.091132</td>\n",
       "      <td>196.574669</td>\n",
       "      <td>22067.550859</td>\n",
       "      <td>7.115832</td>\n",
       "      <td>333.900498</td>\n",
       "      <td>426.557199</td>\n",
       "      <td>14.257422</td>\n",
       "      <td>66.462192</td>\n",
       "      <td>3.954781</td>\n",
       "      <td>1657.868132</td>\n",
       "      <td>0.394383</td>\n",
       "    </tr>\n",
       "    <tr>\n",
       "      <th>std</th>\n",
       "      <td>1.585194</td>\n",
       "      <td>32.837192</td>\n",
       "      <td>8857.439364</td>\n",
       "      <td>1.572847</td>\n",
       "      <td>41.415814</td>\n",
       "      <td>81.572020</td>\n",
       "      <td>3.285923</td>\n",
       "      <td>16.291432</td>\n",
       "      <td>0.775821</td>\n",
       "      <td>935.004181</td>\n",
       "      <td>0.488817</td>\n",
       "    </tr>\n",
       "    <tr>\n",
       "      <th>min</th>\n",
       "      <td>0.000000</td>\n",
       "      <td>73.492234</td>\n",
       "      <td>728.750830</td>\n",
       "      <td>0.352000</td>\n",
       "      <td>129.000000</td>\n",
       "      <td>181.483754</td>\n",
       "      <td>4.371899</td>\n",
       "      <td>8.175876</td>\n",
       "      <td>1.492207</td>\n",
       "      <td>1.000000</td>\n",
       "      <td>0.000000</td>\n",
       "    </tr>\n",
       "    <tr>\n",
       "      <th>25%</th>\n",
       "      <td>6.102533</td>\n",
       "      <td>176.772186</td>\n",
       "      <td>15736.580986</td>\n",
       "      <td>6.112819</td>\n",
       "      <td>307.738158</td>\n",
       "      <td>365.720292</td>\n",
       "      <td>12.031863</td>\n",
       "      <td>55.724326</td>\n",
       "      <td>3.434799</td>\n",
       "      <td>866.000000</td>\n",
       "      <td>0.000000</td>\n",
       "    </tr>\n",
       "    <tr>\n",
       "      <th>50%</th>\n",
       "      <td>7.025457</td>\n",
       "      <td>197.215210</td>\n",
       "      <td>20933.512750</td>\n",
       "      <td>7.130161</td>\n",
       "      <td>332.861559</td>\n",
       "      <td>422.039495</td>\n",
       "      <td>14.171164</td>\n",
       "      <td>66.746781</td>\n",
       "      <td>3.937334</td>\n",
       "      <td>1660.000000</td>\n",
       "      <td>0.000000</td>\n",
       "    </tr>\n",
       "    <tr>\n",
       "      <th>75%</th>\n",
       "      <td>8.065339</td>\n",
       "      <td>217.324800</td>\n",
       "      <td>27198.432591</td>\n",
       "      <td>8.105803</td>\n",
       "      <td>360.295455</td>\n",
       "      <td>481.853415</td>\n",
       "      <td>16.563167</td>\n",
       "      <td>77.579755</td>\n",
       "      <td>4.489545</td>\n",
       "      <td>2465.000000</td>\n",
       "      <td>1.000000</td>\n",
       "    </tr>\n",
       "    <tr>\n",
       "      <th>max</th>\n",
       "      <td>14.000000</td>\n",
       "      <td>323.124000</td>\n",
       "      <td>61227.196008</td>\n",
       "      <td>13.043806</td>\n",
       "      <td>481.030642</td>\n",
       "      <td>753.342620</td>\n",
       "      <td>28.300000</td>\n",
       "      <td>124.000000</td>\n",
       "      <td>6.739000</td>\n",
       "      <td>3275.000000</td>\n",
       "      <td>1.000000</td>\n",
       "    </tr>\n",
       "  </tbody>\n",
       "</table>\n",
       "</div>"
      ],
      "text/plain": [
       "                ph     Hardness        Solids  Chloramines      Sulfate  \\\n",
       "count  2085.000000  2457.000000   2457.000000  2457.000000  1856.000000   \n",
       "mean      7.091132   196.574669  22067.550859     7.115832   333.900498   \n",
       "std       1.585194    32.837192   8857.439364     1.572847    41.415814   \n",
       "min       0.000000    73.492234    728.750830     0.352000   129.000000   \n",
       "25%       6.102533   176.772186  15736.580986     6.112819   307.738158   \n",
       "50%       7.025457   197.215210  20933.512750     7.130161   332.861559   \n",
       "75%       8.065339   217.324800  27198.432591     8.105803   360.295455   \n",
       "max      14.000000   323.124000  61227.196008    13.043806   481.030642   \n",
       "\n",
       "       Conductivity  Organic_carbon  Trihalomethanes    Turbidity  \\\n",
       "count   2457.000000     2457.000000      2339.000000  2457.000000   \n",
       "mean     426.557199       14.257422        66.462192     3.954781   \n",
       "std       81.572020        3.285923        16.291432     0.775821   \n",
       "min      181.483754        4.371899         8.175876     1.492207   \n",
       "25%      365.720292       12.031863        55.724326     3.434799   \n",
       "50%      422.039495       14.171164        66.746781     3.937334   \n",
       "75%      481.853415       16.563167        77.579755     4.489545   \n",
       "max      753.342620       28.300000       124.000000     6.739000   \n",
       "\n",
       "                ID   Potability  \n",
       "count  2457.000000  2457.000000  \n",
       "mean   1657.868132     0.394383  \n",
       "std     935.004181     0.488817  \n",
       "min       1.000000     0.000000  \n",
       "25%     866.000000     0.000000  \n",
       "50%    1660.000000     0.000000  \n",
       "75%    2465.000000     1.000000  \n",
       "max    3275.000000     1.000000  "
      ]
     },
     "execution_count": 62,
     "metadata": {},
     "output_type": "execute_result"
    }
   ],
   "source": [
    "train_df.describe()"
   ]
  },
  {
   "cell_type": "code",
   "execution_count": 63,
   "id": "183550ca",
   "metadata": {},
   "outputs": [
    {
     "data": {
      "text/plain": [
       "ph                 0.027661\n",
       "Hardness          -0.029208\n",
       "Solids             0.663432\n",
       "Chloramines       -0.039178\n",
       "Sulfate           -0.035844\n",
       "Conductivity       0.281756\n",
       "Organic_carbon     0.018261\n",
       "Trihalomethanes   -0.103737\n",
       "Turbidity         -0.010875\n",
       "ID                -0.021907\n",
       "Potability         0.432483\n",
       "dtype: float64"
      ]
     },
     "execution_count": 63,
     "metadata": {},
     "output_type": "execute_result"
    }
   ],
   "source": [
    "train_df.skew()"
   ]
  },
  {
   "cell_type": "code",
   "execution_count": 64,
   "id": "e222611d",
   "metadata": {},
   "outputs": [
    {
     "data": {
      "text/plain": [
       "ph                 372\n",
       "Hardness             0\n",
       "Solids               0\n",
       "Chloramines          0\n",
       "Sulfate            601\n",
       "Conductivity         0\n",
       "Organic_carbon       0\n",
       "Trihalomethanes    118\n",
       "Turbidity            0\n",
       "ID                   0\n",
       "Potability           0\n",
       "dtype: int64"
      ]
     },
     "execution_count": 64,
     "metadata": {},
     "output_type": "execute_result"
    }
   ],
   "source": [
    "train_df.isna().sum()"
   ]
  },
  {
   "cell_type": "code",
   "execution_count": 65,
   "id": "a73ad9bd",
   "metadata": {},
   "outputs": [],
   "source": [
    "train_df.fillna(train_df.mean(), inplace=True)"
   ]
  },
  {
   "cell_type": "code",
   "execution_count": 66,
   "id": "f2e8e0b4",
   "metadata": {},
   "outputs": [
    {
     "data": {
      "text/plain": [
       "ph                 0\n",
       "Hardness           0\n",
       "Solids             0\n",
       "Chloramines        0\n",
       "Sulfate            0\n",
       "Conductivity       0\n",
       "Organic_carbon     0\n",
       "Trihalomethanes    0\n",
       "Turbidity          0\n",
       "ID                 0\n",
       "Potability         0\n",
       "dtype: int64"
      ]
     },
     "execution_count": 66,
     "metadata": {},
     "output_type": "execute_result"
    }
   ],
   "source": [
    "train_df.isna().sum()"
   ]
  },
  {
   "cell_type": "code",
   "execution_count": 67,
   "id": "e7b9b4c9",
   "metadata": {},
   "outputs": [
    {
     "data": {
      "text/html": [
       "<div>\n",
       "<style scoped>\n",
       "    .dataframe tbody tr th:only-of-type {\n",
       "        vertical-align: middle;\n",
       "    }\n",
       "\n",
       "    .dataframe tbody tr th {\n",
       "        vertical-align: top;\n",
       "    }\n",
       "\n",
       "    .dataframe thead th {\n",
       "        text-align: right;\n",
       "    }\n",
       "</style>\n",
       "<table border=\"1\" class=\"dataframe\">\n",
       "  <thead>\n",
       "    <tr style=\"text-align: right;\">\n",
       "      <th></th>\n",
       "      <th>ph</th>\n",
       "      <th>Hardness</th>\n",
       "      <th>Solids</th>\n",
       "      <th>Chloramines</th>\n",
       "      <th>Sulfate</th>\n",
       "      <th>Conductivity</th>\n",
       "      <th>Organic_carbon</th>\n",
       "      <th>Trihalomethanes</th>\n",
       "      <th>Turbidity</th>\n",
       "      <th>ID</th>\n",
       "      <th>Potability</th>\n",
       "    </tr>\n",
       "  </thead>\n",
       "  <tbody>\n",
       "    <tr>\n",
       "      <th>count</th>\n",
       "      <td>2457.000000</td>\n",
       "      <td>2457.000000</td>\n",
       "      <td>2457.000000</td>\n",
       "      <td>2457.000000</td>\n",
       "      <td>2457.000000</td>\n",
       "      <td>2457.000000</td>\n",
       "      <td>2457.000000</td>\n",
       "      <td>2457.000000</td>\n",
       "      <td>2457.000000</td>\n",
       "      <td>2457.000000</td>\n",
       "      <td>2457.000000</td>\n",
       "    </tr>\n",
       "    <tr>\n",
       "      <th>mean</th>\n",
       "      <td>7.091132</td>\n",
       "      <td>196.574669</td>\n",
       "      <td>22067.550859</td>\n",
       "      <td>7.115832</td>\n",
       "      <td>333.900498</td>\n",
       "      <td>426.557199</td>\n",
       "      <td>14.257422</td>\n",
       "      <td>66.462192</td>\n",
       "      <td>3.954781</td>\n",
       "      <td>1657.868132</td>\n",
       "      <td>0.394383</td>\n",
       "    </tr>\n",
       "    <tr>\n",
       "      <th>std</th>\n",
       "      <td>1.460216</td>\n",
       "      <td>32.837192</td>\n",
       "      <td>8857.439364</td>\n",
       "      <td>1.572847</td>\n",
       "      <td>35.993491</td>\n",
       "      <td>81.572020</td>\n",
       "      <td>3.285923</td>\n",
       "      <td>15.895249</td>\n",
       "      <td>0.775821</td>\n",
       "      <td>935.004181</td>\n",
       "      <td>0.488817</td>\n",
       "    </tr>\n",
       "    <tr>\n",
       "      <th>min</th>\n",
       "      <td>0.000000</td>\n",
       "      <td>73.492234</td>\n",
       "      <td>728.750830</td>\n",
       "      <td>0.352000</td>\n",
       "      <td>129.000000</td>\n",
       "      <td>181.483754</td>\n",
       "      <td>4.371899</td>\n",
       "      <td>8.175876</td>\n",
       "      <td>1.492207</td>\n",
       "      <td>1.000000</td>\n",
       "      <td>0.000000</td>\n",
       "    </tr>\n",
       "    <tr>\n",
       "      <th>25%</th>\n",
       "      <td>6.281904</td>\n",
       "      <td>176.772186</td>\n",
       "      <td>15736.580986</td>\n",
       "      <td>6.112819</td>\n",
       "      <td>317.301369</td>\n",
       "      <td>365.720292</td>\n",
       "      <td>12.031863</td>\n",
       "      <td>56.420210</td>\n",
       "      <td>3.434799</td>\n",
       "      <td>866.000000</td>\n",
       "      <td>0.000000</td>\n",
       "    </tr>\n",
       "    <tr>\n",
       "      <th>50%</th>\n",
       "      <td>7.091132</td>\n",
       "      <td>197.215210</td>\n",
       "      <td>20933.512750</td>\n",
       "      <td>7.130161</td>\n",
       "      <td>333.900498</td>\n",
       "      <td>422.039495</td>\n",
       "      <td>14.171164</td>\n",
       "      <td>66.462192</td>\n",
       "      <td>3.937334</td>\n",
       "      <td>1660.000000</td>\n",
       "      <td>0.000000</td>\n",
       "    </tr>\n",
       "    <tr>\n",
       "      <th>75%</th>\n",
       "      <td>7.861178</td>\n",
       "      <td>217.324800</td>\n",
       "      <td>27198.432591</td>\n",
       "      <td>8.105803</td>\n",
       "      <td>350.445293</td>\n",
       "      <td>481.853415</td>\n",
       "      <td>16.563167</td>\n",
       "      <td>77.131889</td>\n",
       "      <td>4.489545</td>\n",
       "      <td>2465.000000</td>\n",
       "      <td>1.000000</td>\n",
       "    </tr>\n",
       "    <tr>\n",
       "      <th>max</th>\n",
       "      <td>14.000000</td>\n",
       "      <td>323.124000</td>\n",
       "      <td>61227.196008</td>\n",
       "      <td>13.043806</td>\n",
       "      <td>481.030642</td>\n",
       "      <td>753.342620</td>\n",
       "      <td>28.300000</td>\n",
       "      <td>124.000000</td>\n",
       "      <td>6.739000</td>\n",
       "      <td>3275.000000</td>\n",
       "      <td>1.000000</td>\n",
       "    </tr>\n",
       "  </tbody>\n",
       "</table>\n",
       "</div>"
      ],
      "text/plain": [
       "                ph     Hardness        Solids  Chloramines      Sulfate  \\\n",
       "count  2457.000000  2457.000000   2457.000000  2457.000000  2457.000000   \n",
       "mean      7.091132   196.574669  22067.550859     7.115832   333.900498   \n",
       "std       1.460216    32.837192   8857.439364     1.572847    35.993491   \n",
       "min       0.000000    73.492234    728.750830     0.352000   129.000000   \n",
       "25%       6.281904   176.772186  15736.580986     6.112819   317.301369   \n",
       "50%       7.091132   197.215210  20933.512750     7.130161   333.900498   \n",
       "75%       7.861178   217.324800  27198.432591     8.105803   350.445293   \n",
       "max      14.000000   323.124000  61227.196008    13.043806   481.030642   \n",
       "\n",
       "       Conductivity  Organic_carbon  Trihalomethanes    Turbidity  \\\n",
       "count   2457.000000     2457.000000      2457.000000  2457.000000   \n",
       "mean     426.557199       14.257422        66.462192     3.954781   \n",
       "std       81.572020        3.285923        15.895249     0.775821   \n",
       "min      181.483754        4.371899         8.175876     1.492207   \n",
       "25%      365.720292       12.031863        56.420210     3.434799   \n",
       "50%      422.039495       14.171164        66.462192     3.937334   \n",
       "75%      481.853415       16.563167        77.131889     4.489545   \n",
       "max      753.342620       28.300000       124.000000     6.739000   \n",
       "\n",
       "                ID   Potability  \n",
       "count  2457.000000  2457.000000  \n",
       "mean   1657.868132     0.394383  \n",
       "std     935.004181     0.488817  \n",
       "min       1.000000     0.000000  \n",
       "25%     866.000000     0.000000  \n",
       "50%    1660.000000     0.000000  \n",
       "75%    2465.000000     1.000000  \n",
       "max    3275.000000     1.000000  "
      ]
     },
     "execution_count": 67,
     "metadata": {},
     "output_type": "execute_result"
    }
   ],
   "source": [
    "train_df.describe()"
   ]
  },
  {
   "cell_type": "code",
   "execution_count": 112,
   "id": "54da8ab1",
   "metadata": {},
   "outputs": [
    {
     "data": {
      "image/png": "[encoded data removed]",
      "text/plain": [
       "<Figure size 640x480 with 1 Axes>"
      ]
     },
     "metadata": {},
     "output_type": "display_data"
    }
   ],
   "source": [
    "sns.countplot(data = train_df, x = 'Potability')\n",
    "plt.show()"
   ]
  },
  {
   "cell_type": "code",
   "execution_count": 113,
   "id": "a5966a05",
   "metadata": {},
   "outputs": [
    {
     "data": {
      "image/png": "[encoded data removed]",
      "text/plain": [
       "<Figure size 1000x500 with 1 Axes>"
      ]
     },
     "metadata": {},
     "output_type": "display_data"
    }
   ],
   "source": [
    "figure = plt.figure(figsize=[10, 5])\n",
    "\n",
    "train_df['Potability'].value_counts().plot.pie(autopct='%3.1f%%',labels = ['Not Potable', 'Potable'] ,cmap = 'Pastel1')\n",
    "\n",
    "plt.ylabel(ylabel='Potability', size=14)\n",
    "plt.title(label='Proportion of Potability', size=13)\n",
    "plt.show()"
   ]
  },
  {
   "cell_type": "code",
   "execution_count": 114,
   "id": "aa536a88",
   "metadata": {},
   "outputs": [
    {
     "data": {
      "image/png": "[encoded data removed]",
      "text/plain": [
       "<Figure size 640x480 with 1 Axes>"
      ]
     },
     "metadata": {},
     "output_type": "display_data"
    }
   ],
   "source": [
    "sns.histplot(train_df['Turbidity'], kde = True)\n",
    "plt.show()"
   ]
  },
  {
   "cell_type": "code",
   "execution_count": 115,
   "id": "cbb7d0f5",
   "metadata": {},
   "outputs": [
    {
     "data": {
      "image/png": "[encoded data removed]",
      "text/plain": [
       "<Figure size 640x480 with 1 Axes>"
      ]
     },
     "metadata": {},
     "output_type": "display_data"
    }
   ],
   "source": [
    "sns.histplot(train_df['Sulfate'], kde = True)\n",
    "plt.show()"
   ]
  },
  {
   "cell_type": "code",
   "execution_count": 116,
   "id": "baa0b86c",
   "metadata": {},
   "outputs": [
    {
     "data": {
      "image/png": "[encoded data removed]",
      "text/plain": [
       "<Figure size 1500x700 with 2 Axes>"
      ]
     },
     "metadata": {},
     "output_type": "display_data"
    }
   ],
   "source": [
    "figure = plt.figure(figsize=[15, 7])\n",
    "sns.heatmap(data=train_df.corr(), annot=True)\n",
    "plt.xticks(size=12, rotation=90)\n",
    "plt.yticks(size=12)\n",
    "plt.xlabel(xlabel='Feature Space X', size=14)\n",
    "plt.ylabel(ylabel='Feature Space Y', size=14)\n",
    "plt.title(label='Correlation of Features', size=16)\n",
    "plt.show()"
   ]
  },
  {
   "cell_type": "code",
   "execution_count": 68,
   "id": "9481cb29",
   "metadata": {},
   "outputs": [],
   "source": [
    "train_df.drop('ID', axis = 1, inplace = True)"
   ]
  },
  {
   "cell_type": "code",
   "execution_count": 69,
   "id": "adaedbc4",
   "metadata": {},
   "outputs": [
    {
     "name": "stdout",
     "output_type": "stream",
     "text": [
      "<class 'pandas.core.frame.DataFrame'>\n",
      "RangeIndex: 2457 entries, 0 to 2456\n",
      "Data columns (total 10 columns):\n",
      " #   Column           Non-Null Count  Dtype  \n",
      "---  ------           --------------  -----  \n",
      " 0   ph               2457 non-null   float64\n",
      " 1   Hardness         2457 non-null   float64\n",
      " 2   Solids           2457 non-null   float64\n",
      " 3   Chloramines      2457 non-null   float64\n",
      " 4   Sulfate          2457 non-null   float64\n",
      " 5   Conductivity     2457 non-null   float64\n",
      " 6   Organic_carbon   2457 non-null   float64\n",
      " 7   Trihalomethanes  2457 non-null   float64\n",
      " 8   Turbidity        2457 non-null   float64\n",
      " 9   Potability       2457 non-null   int64  \n",
      "dtypes: float64(9), int64(1)\n",
      "memory usage: 192.1 KB\n"
     ]
    }
   ],
   "source": [
    "train_df.info()"
   ]
  },
  {
   "cell_type": "markdown",
   "id": "7f2a0730",
   "metadata": {},
   "source": [
    "# Train-Test Split:"
   ]
  },
  {
   "cell_type": "code",
   "execution_count": 70,
   "id": "06382567",
   "metadata": {},
   "outputs": [],
   "source": [
    "x = train_df.iloc[:, 0:9]\n",
    "y = train_df['Potability']"
   ]
  },
  {
   "cell_type": "code",
   "execution_count": 71,
   "id": "e06204fe",
   "metadata": {},
   "outputs": [
    {
     "data": {
      "text/html": [
       "<div>\n",
       "<style scoped>\n",
       "    .dataframe tbody tr th:only-of-type {\n",
       "        vertical-align: middle;\n",
       "    }\n",
       "\n",
       "    .dataframe tbody tr th {\n",
       "        vertical-align: top;\n",
       "    }\n",
       "\n",
       "    .dataframe thead th {\n",
       "        text-align: right;\n",
       "    }\n",
       "</style>\n",
       "<table border=\"1\" class=\"dataframe\">\n",
       "  <thead>\n",
       "    <tr style=\"text-align: right;\">\n",
       "      <th></th>\n",
       "      <th>ph</th>\n",
       "      <th>Hardness</th>\n",
       "      <th>Solids</th>\n",
       "      <th>Chloramines</th>\n",
       "      <th>Sulfate</th>\n",
       "      <th>Conductivity</th>\n",
       "      <th>Organic_carbon</th>\n",
       "      <th>Trihalomethanes</th>\n",
       "      <th>Turbidity</th>\n",
       "    </tr>\n",
       "  </thead>\n",
       "  <tbody>\n",
       "    <tr>\n",
       "      <th>0</th>\n",
       "      <td>7.091132</td>\n",
       "      <td>202.569467</td>\n",
       "      <td>22256.950365</td>\n",
       "      <td>6.913501</td>\n",
       "      <td>304.951498</td>\n",
       "      <td>434.198436</td>\n",
       "      <td>13.696893</td>\n",
       "      <td>64.205667</td>\n",
       "      <td>4.478070</td>\n",
       "    </tr>\n",
       "    <tr>\n",
       "      <th>1</th>\n",
       "      <td>5.319769</td>\n",
       "      <td>204.202072</td>\n",
       "      <td>22390.795566</td>\n",
       "      <td>8.053559</td>\n",
       "      <td>315.027505</td>\n",
       "      <td>399.119025</td>\n",
       "      <td>13.974085</td>\n",
       "      <td>83.157997</td>\n",
       "      <td>2.925732</td>\n",
       "    </tr>\n",
       "    <tr>\n",
       "      <th>2</th>\n",
       "      <td>7.350379</td>\n",
       "      <td>193.633367</td>\n",
       "      <td>26736.085567</td>\n",
       "      <td>10.416589</td>\n",
       "      <td>309.416883</td>\n",
       "      <td>557.495685</td>\n",
       "      <td>16.519722</td>\n",
       "      <td>61.077383</td>\n",
       "      <td>3.663922</td>\n",
       "    </tr>\n",
       "    <tr>\n",
       "      <th>3</th>\n",
       "      <td>7.612517</td>\n",
       "      <td>225.492793</td>\n",
       "      <td>14812.970645</td>\n",
       "      <td>7.982595</td>\n",
       "      <td>356.690174</td>\n",
       "      <td>341.074925</td>\n",
       "      <td>14.994662</td>\n",
       "      <td>55.893916</td>\n",
       "      <td>2.939593</td>\n",
       "    </tr>\n",
       "    <tr>\n",
       "      <th>4</th>\n",
       "      <td>7.122637</td>\n",
       "      <td>183.402648</td>\n",
       "      <td>31295.902410</td>\n",
       "      <td>4.425026</td>\n",
       "      <td>333.900498</td>\n",
       "      <td>411.616070</td>\n",
       "      <td>14.066057</td>\n",
       "      <td>77.185792</td>\n",
       "      <td>3.750447</td>\n",
       "    </tr>\n",
       "    <tr>\n",
       "      <th>...</th>\n",
       "      <td>...</td>\n",
       "      <td>...</td>\n",
       "      <td>...</td>\n",
       "      <td>...</td>\n",
       "      <td>...</td>\n",
       "      <td>...</td>\n",
       "      <td>...</td>\n",
       "      <td>...</td>\n",
       "      <td>...</td>\n",
       "    </tr>\n",
       "    <tr>\n",
       "      <th>2452</th>\n",
       "      <td>4.187491</td>\n",
       "      <td>208.374188</td>\n",
       "      <td>21809.709834</td>\n",
       "      <td>5.846112</td>\n",
       "      <td>327.474203</td>\n",
       "      <td>264.508083</td>\n",
       "      <td>11.235144</td>\n",
       "      <td>46.682597</td>\n",
       "      <td>4.592959</td>\n",
       "    </tr>\n",
       "    <tr>\n",
       "      <th>2453</th>\n",
       "      <td>7.793915</td>\n",
       "      <td>164.958947</td>\n",
       "      <td>25506.912237</td>\n",
       "      <td>7.868036</td>\n",
       "      <td>358.259200</td>\n",
       "      <td>398.460312</td>\n",
       "      <td>15.297496</td>\n",
       "      <td>66.462192</td>\n",
       "      <td>4.220028</td>\n",
       "    </tr>\n",
       "    <tr>\n",
       "      <th>2454</th>\n",
       "      <td>6.630364</td>\n",
       "      <td>186.761088</td>\n",
       "      <td>30939.023214</td>\n",
       "      <td>7.703481</td>\n",
       "      <td>333.900498</td>\n",
       "      <td>330.876083</td>\n",
       "      <td>13.815757</td>\n",
       "      <td>86.753117</td>\n",
       "      <td>3.490588</td>\n",
       "    </tr>\n",
       "    <tr>\n",
       "      <th>2455</th>\n",
       "      <td>8.783168</td>\n",
       "      <td>218.032840</td>\n",
       "      <td>16183.586649</td>\n",
       "      <td>7.390474</td>\n",
       "      <td>334.053885</td>\n",
       "      <td>389.021616</td>\n",
       "      <td>16.354520</td>\n",
       "      <td>47.100982</td>\n",
       "      <td>4.274137</td>\n",
       "    </tr>\n",
       "    <tr>\n",
       "      <th>2456</th>\n",
       "      <td>6.698154</td>\n",
       "      <td>198.286268</td>\n",
       "      <td>34675.862845</td>\n",
       "      <td>6.263602</td>\n",
       "      <td>360.232834</td>\n",
       "      <td>430.935009</td>\n",
       "      <td>12.176678</td>\n",
       "      <td>66.462192</td>\n",
       "      <td>3.758180</td>\n",
       "    </tr>\n",
       "  </tbody>\n",
       "</table>\n",
       "<p>2457 rows × 9 columns</p>\n",
       "</div>"
      ],
      "text/plain": [
       "            ph    Hardness        Solids  Chloramines     Sulfate  \\\n",
       "0     7.091132  202.569467  22256.950365     6.913501  304.951498   \n",
       "1     5.319769  204.202072  22390.795566     8.053559  315.027505   \n",
       "2     7.350379  193.633367  26736.085567    10.416589  309.416883   \n",
       "3     7.612517  225.492793  14812.970645     7.982595  356.690174   \n",
       "4     7.122637  183.402648  31295.902410     4.425026  333.900498   \n",
       "...        ...         ...           ...          ...         ...   \n",
       "2452  4.187491  208.374188  21809.709834     5.846112  327.474203   \n",
       "2453  7.793915  164.958947  25506.912237     7.868036  358.259200   \n",
       "2454  6.630364  186.761088  30939.023214     7.703481  333.900498   \n",
       "2455  8.783168  218.032840  16183.586649     7.390474  334.053885   \n",
       "2456  6.698154  198.286268  34675.862845     6.263602  360.232834   \n",
       "\n",
       "      Conductivity  Organic_carbon  Trihalomethanes  Turbidity  \n",
       "0       434.198436       13.696893        64.205667   4.478070  \n",
       "1       399.119025       13.974085        83.157997   2.925732  \n",
       "2       557.495685       16.519722        61.077383   3.663922  \n",
       "3       341.074925       14.994662        55.893916   2.939593  \n",
       "4       411.616070       14.066057        77.185792   3.750447  \n",
       "...            ...             ...              ...        ...  \n",
       "2452    264.508083       11.235144        46.682597   4.592959  \n",
       "2453    398.460312       15.297496        66.462192   4.220028  \n",
       "2454    330.876083       13.815757        86.753117   3.490588  \n",
       "2455    389.021616       16.354520        47.100982   4.274137  \n",
       "2456    430.935009       12.176678        66.462192   3.758180  \n",
       "\n",
       "[2457 rows x 9 columns]"
      ]
     },
     "execution_count": 71,
     "metadata": {},
     "output_type": "execute_result"
    }
   ],
   "source": [
    "x"
   ]
  },
  {
   "cell_type": "code",
   "execution_count": 72,
   "id": "2711d74a",
   "metadata": {},
   "outputs": [
    {
     "data": {
      "text/plain": [
       "0       0\n",
       "1       0\n",
       "2       0\n",
       "3       1\n",
       "4       0\n",
       "       ..\n",
       "2452    1\n",
       "2453    1\n",
       "2454    0\n",
       "2455    0\n",
       "2456    1\n",
       "Name: Potability, Length: 2457, dtype: int64"
      ]
     },
     "execution_count": 72,
     "metadata": {},
     "output_type": "execute_result"
    }
   ],
   "source": [
    "y"
   ]
  },
  {
   "cell_type": "code",
   "execution_count": 73,
   "id": "6725c40f",
   "metadata": {},
   "outputs": [],
   "source": [
    "from sklearn.model_selection import train_test_split\n",
    "x_train, x_test, y_train, y_test = train_test_split(x, y, test_size= 0.2, random_state=101,shuffle=True)"
   ]
  },
  {
   "cell_type": "markdown",
   "id": "39bb3a1d",
   "metadata": {},
   "source": [
    "# 1. DecisionTreeClassifier:"
   ]
  },
  {
   "cell_type": "code",
   "execution_count": 74,
   "id": "34a2064d",
   "metadata": {},
   "outputs": [],
   "source": [
    "from sklearn.tree import DecisionTreeClassifier"
   ]
  },
  {
   "cell_type": "code",
   "execution_count": 75,
   "id": "922fcb24",
   "metadata": {},
   "outputs": [],
   "source": [
    "dtree = DecisionTreeClassifier()"
   ]
  },
  {
   "cell_type": "code",
   "execution_count": 76,
   "id": "adeaca01",
   "metadata": {},
   "outputs": [
    {
     "data": {
      "text/plain": [
       "DecisionTreeClassifier()"
      ]
     },
     "execution_count": 76,
     "metadata": {},
     "output_type": "execute_result"
    }
   ],
   "source": [
    "dtree.fit(x_train, y_train)"
   ]
  },
  {
   "cell_type": "code",
   "execution_count": 77,
   "id": "cfb8ad14",
   "metadata": {},
   "outputs": [],
   "source": [
    "y_pred_dt_train = dtree.predict(x_train)\n",
    "y_pred_dt_test = dtree.predict(x_test)"
   ]
  },
  {
   "cell_type": "markdown",
   "id": "3f5fdad8",
   "metadata": {},
   "source": [
    "# Model Evaluation:"
   ]
  },
  {
   "cell_type": "code",
   "execution_count": 78,
   "id": "9bf8232a",
   "metadata": {},
   "outputs": [],
   "source": [
    "def model_eval(actual, predicted):\n",
    "    cm = confusion_matrix(actual, predicted)\n",
    "    accuracy = accuracy_score(actual, predicted)\n",
    "    class_rep = classification_report(actual, predicted)\n",
    "    print(cm)\n",
    "    print('The accuracy of the Model is :', accuracy)\n",
    "    print(class_rep)"
   ]
  },
  {
   "cell_type": "code",
   "execution_count": 79,
   "id": "e00a6759",
   "metadata": {},
   "outputs": [
    {
     "name": "stdout",
     "output_type": "stream",
     "text": [
      "[[1171    0]\n",
      " [   0  794]]\n",
      "The accuracy of the Model is : 1.0\n",
      "              precision    recall  f1-score   support\n",
      "\n",
      "           0       1.00      1.00      1.00      1171\n",
      "           1       1.00      1.00      1.00       794\n",
      "\n",
      "    accuracy                           1.00      1965\n",
      "   macro avg       1.00      1.00      1.00      1965\n",
      "weighted avg       1.00      1.00      1.00      1965\n",
      "\n"
     ]
    }
   ],
   "source": [
    "model_eval(y_train, y_pred_dt_train)"
   ]
  },
  {
   "cell_type": "code",
   "execution_count": 80,
   "id": "174e6e87",
   "metadata": {},
   "outputs": [
    {
     "name": "stdout",
     "output_type": "stream",
     "text": [
      "[[211 106]\n",
      " [102  73]]\n",
      "The accuracy of the Model is : 0.5772357723577236\n",
      "              precision    recall  f1-score   support\n",
      "\n",
      "           0       0.67      0.67      0.67       317\n",
      "           1       0.41      0.42      0.41       175\n",
      "\n",
      "    accuracy                           0.58       492\n",
      "   macro avg       0.54      0.54      0.54       492\n",
      "weighted avg       0.58      0.58      0.58       492\n",
      "\n"
     ]
    }
   ],
   "source": [
    "model_eval(y_test, y_pred_dt_test)"
   ]
  },
  {
   "cell_type": "code",
   "execution_count": 81,
   "id": "bde38cf6",
   "metadata": {},
   "outputs": [],
   "source": [
    "X_DT=dtree.predict([[5.735724, 158.318741,25363.016594,7.728601,377.543291,568.304671,13.626624,75.952337,4.732954]])"
   ]
  },
  {
   "cell_type": "code",
   "execution_count": 82,
   "id": "d3cab792",
   "metadata": {},
   "outputs": [
    {
     "data": {
      "text/plain": [
       "array([1], dtype=int64)"
      ]
     },
     "execution_count": 82,
     "metadata": {},
     "output_type": "execute_result"
    }
   ],
   "source": [
    "X_DT"
   ]
  },
  {
   "cell_type": "markdown",
   "id": "2fea58cd",
   "metadata": {},
   "source": [
    "# 2. KNeighborsClassifier:"
   ]
  },
  {
   "cell_type": "code",
   "execution_count": 83,
   "id": "ba384165",
   "metadata": {},
   "outputs": [],
   "source": [
    "from sklearn.neighbors import KNeighborsClassifier"
   ]
  },
  {
   "cell_type": "code",
   "execution_count": 84,
   "id": "570ec5c6",
   "metadata": {},
   "outputs": [],
   "source": [
    "neigh = KNeighborsClassifier(n_neighbors = 5)"
   ]
  },
  {
   "cell_type": "code",
   "execution_count": 85,
   "id": "02127dd3",
   "metadata": {},
   "outputs": [
    {
     "data": {
      "text/plain": [
       "KNeighborsClassifier()"
      ]
     },
     "execution_count": 85,
     "metadata": {},
     "output_type": "execute_result"
    }
   ],
   "source": [
    "neigh.fit(x_train, y_train)"
   ]
  },
  {
   "cell_type": "code",
   "execution_count": 86,
   "id": "077937fe",
   "metadata": {},
   "outputs": [],
   "source": [
    "y_pred_kn_train = neigh.predict(x_train)\n",
    "y_pred_kn_test = neigh.predict(x_test)"
   ]
  },
  {
   "cell_type": "markdown",
   "id": "cb02b636",
   "metadata": {},
   "source": [
    "# Model Evaluation:"
   ]
  },
  {
   "cell_type": "code",
   "execution_count": 87,
   "id": "1b049d10",
   "metadata": {},
   "outputs": [
    {
     "name": "stdout",
     "output_type": "stream",
     "text": [
      "[[969 202]\n",
      " [376 418]]\n",
      "The accuracy of the Model is : 0.705852417302799\n",
      "              precision    recall  f1-score   support\n",
      "\n",
      "           0       0.72      0.83      0.77      1171\n",
      "           1       0.67      0.53      0.59       794\n",
      "\n",
      "    accuracy                           0.71      1965\n",
      "   macro avg       0.70      0.68      0.68      1965\n",
      "weighted avg       0.70      0.71      0.70      1965\n",
      "\n"
     ]
    }
   ],
   "source": [
    "model_eval(y_train, y_pred_kn_train)"
   ]
  },
  {
   "cell_type": "code",
   "execution_count": 88,
   "id": "9ae18b1e",
   "metadata": {},
   "outputs": [
    {
     "name": "stdout",
     "output_type": "stream",
     "text": [
      "[[210 107]\n",
      " [119  56]]\n",
      "The accuracy of the Model is : 0.540650406504065\n",
      "              precision    recall  f1-score   support\n",
      "\n",
      "           0       0.64      0.66      0.65       317\n",
      "           1       0.34      0.32      0.33       175\n",
      "\n",
      "    accuracy                           0.54       492\n",
      "   macro avg       0.49      0.49      0.49       492\n",
      "weighted avg       0.53      0.54      0.54       492\n",
      "\n"
     ]
    }
   ],
   "source": [
    "model_eval(y_test, y_pred_kn_test)"
   ]
  },
  {
   "cell_type": "markdown",
   "id": "ec2c9575",
   "metadata": {},
   "source": [
    "# GridSearchCV:"
   ]
  },
  {
   "cell_type": "code",
   "execution_count": 89,
   "id": "2008fda5",
   "metadata": {},
   "outputs": [],
   "source": [
    "from sklearn.model_selection import GridSearchCV\n",
    "from sklearn.model_selection import RepeatedStratifiedKFold"
   ]
  },
  {
   "cell_type": "code",
   "execution_count": 90,
   "id": "20f17213",
   "metadata": {},
   "outputs": [],
   "source": [
    "model = DecisionTreeClassifier()\n",
    "criterion = [\"gini\", \"entropy\"]\n",
    "splitter = [\"best\", \"random\"]\n",
    "min_samples_split = [2,4,6,8,10]"
   ]
  },
  {
   "cell_type": "code",
   "execution_count": 91,
   "id": "a52f3cb1",
   "metadata": {},
   "outputs": [],
   "source": [
    "grid = dict(splitter=splitter, criterion=criterion, min_samples_split=min_samples_split)\n",
    "grid_search_dt = GridSearchCV(estimator=model, param_grid=grid, n_jobs=-1,error_score=0)"
   ]
  },
  {
   "cell_type": "code",
   "execution_count": 92,
   "id": "eabbfc6d",
   "metadata": {},
   "outputs": [
    {
     "data": {
      "text/plain": [
       "GridSearchCV(error_score=0, estimator=DecisionTreeClassifier(), n_jobs=-1,\n",
       "             param_grid={'criterion': ['gini', 'entropy'],\n",
       "                         'min_samples_split': [2, 4, 6, 8, 10],\n",
       "                         'splitter': ['best', 'random']})"
      ]
     },
     "execution_count": 92,
     "metadata": {},
     "output_type": "execute_result"
    }
   ],
   "source": [
    "grid_search_dt.fit(x_train, y_train)"
   ]
  },
  {
   "cell_type": "code",
   "execution_count": 93,
   "id": "50e55a20",
   "metadata": {},
   "outputs": [],
   "source": [
    "y_pred_grid_train = grid_search_dt.predict(x_train)\n",
    "y_pred_grid_test = grid_search_dt.predict(x_test)"
   ]
  },
  {
   "cell_type": "markdown",
   "id": "12d24d04",
   "metadata": {},
   "source": [
    "# Model Evaluation:"
   ]
  },
  {
   "cell_type": "code",
   "execution_count": 94,
   "id": "8eee2e07",
   "metadata": {},
   "outputs": [
    {
     "name": "stdout",
     "output_type": "stream",
     "text": [
      "[[1126   45]\n",
      " [ 112  682]]\n",
      "The accuracy of the Model is : 0.9201017811704835\n",
      "              precision    recall  f1-score   support\n",
      "\n",
      "           0       0.91      0.96      0.93      1171\n",
      "           1       0.94      0.86      0.90       794\n",
      "\n",
      "    accuracy                           0.92      1965\n",
      "   macro avg       0.92      0.91      0.92      1965\n",
      "weighted avg       0.92      0.92      0.92      1965\n",
      "\n"
     ]
    }
   ],
   "source": [
    "model_eval(y_train, y_pred_grid_train)"
   ]
  },
  {
   "cell_type": "code",
   "execution_count": 95,
   "id": "5296a43f",
   "metadata": {},
   "outputs": [
    {
     "name": "stdout",
     "output_type": "stream",
     "text": [
      "[[209 108]\n",
      " [ 96  79]]\n",
      "The accuracy of the Model is : 0.5853658536585366\n",
      "              precision    recall  f1-score   support\n",
      "\n",
      "           0       0.69      0.66      0.67       317\n",
      "           1       0.42      0.45      0.44       175\n",
      "\n",
      "    accuracy                           0.59       492\n",
      "   macro avg       0.55      0.56      0.55       492\n",
      "weighted avg       0.59      0.59      0.59       492\n",
      "\n"
     ]
    }
   ],
   "source": [
    "model_eval(y_test, y_pred_grid_test)"
   ]
  },
  {
   "cell_type": "code",
   "execution_count": 101,
   "id": "219e08a5",
   "metadata": {},
   "outputs": [
    {
     "data": {
      "text/plain": [
       "array([0, 1, 1, 0, 0, 1, 1, 1, 1, 1, 0, 1, 0, 0, 1, 1, 1, 0, 1, 1, 0, 0,\n",
       "       0, 1, 0, 0, 1, 1, 1, 1, 0, 0, 0, 1, 0, 0, 1, 1, 0, 0, 0, 0, 1, 0,\n",
       "       0, 0, 0, 0, 0, 1, 0, 0, 0, 0, 1, 0, 1, 1, 1, 0, 1, 0, 0, 1, 0, 0,\n",
       "       1, 0, 1, 0, 1, 0, 0, 0, 0, 1, 0, 0, 1, 1, 1, 0, 0, 0, 1, 1, 0, 0,\n",
       "       0, 0, 0, 0, 0, 1, 0, 1, 0, 0, 0, 0, 1, 1, 1, 0, 1, 0, 1, 1, 1, 0,\n",
       "       1, 0, 0, 1, 0, 1, 1, 1, 1, 0, 0, 0, 0, 0, 0, 0, 0, 1, 1, 1, 1, 1,\n",
       "       0, 0, 1, 1, 0, 0, 1, 0, 0, 0, 0, 0, 0, 0, 0, 0, 1, 0, 0, 1, 1, 1,\n",
       "       0, 0, 0, 1, 1, 0, 0, 1, 0, 0, 0, 0, 1, 0, 1, 0, 0, 0, 0, 1, 1, 1,\n",
       "       1, 1, 1, 1, 0, 0, 1, 1, 1, 1, 1, 1, 0, 1, 0, 1, 0, 0, 0, 0, 0, 1,\n",
       "       1, 1, 1, 0, 1, 0, 0, 1, 1, 0, 0, 1, 0, 0, 1, 1, 1, 0, 0, 1, 1, 1,\n",
       "       0, 0, 1, 0, 0, 1, 0, 0, 0, 1, 0, 1, 0, 0, 1, 1, 0, 0, 1, 1, 1, 0,\n",
       "       0, 0, 0, 0, 0, 0, 1, 0, 0, 0, 0, 0, 1, 0, 0, 0, 1, 1, 0, 1, 0, 0,\n",
       "       1, 0, 1, 0, 0, 0, 1, 0, 1, 1, 1, 0, 1, 0, 0, 1, 0, 0, 0, 0, 0, 0,\n",
       "       1, 0, 0, 1, 0, 0, 0, 1, 1, 0, 1, 0, 1, 0, 0, 1, 0, 0, 0, 1, 0, 0,\n",
       "       0, 0, 0, 0, 0, 0, 0, 1, 0, 0, 0, 0, 0, 0, 0, 0, 1, 1, 0, 0, 0, 1,\n",
       "       1, 0, 0, 1, 0, 0, 0, 0, 0, 0, 1, 0, 0, 0, 0, 1, 0, 0, 0, 1, 0, 0,\n",
       "       1, 0, 0, 1, 1, 0, 0, 1, 1, 0, 0, 1, 0, 1, 0, 0, 1, 0, 1, 0, 1, 1,\n",
       "       0, 0, 0, 0, 1, 0, 1, 0, 0, 0, 1, 0, 0, 0, 0, 0, 1, 0, 0, 0, 0, 1,\n",
       "       1, 1, 1, 0, 0, 0, 0, 0, 0, 1, 0, 0, 0, 1, 1, 1, 1, 0, 0, 0, 1, 1,\n",
       "       0, 0, 0, 0, 0, 1, 0, 1, 0, 0, 1, 1, 1, 0, 0, 1, 0, 0, 0, 1, 0, 0,\n",
       "       0, 0, 0, 0, 1, 1, 0, 0, 1, 1, 0, 0, 1, 1, 0, 0, 0, 0, 0, 0, 0, 0,\n",
       "       0, 1, 0, 1, 1, 0, 0, 0, 1, 0, 0, 1, 0, 0, 0, 1, 1, 1, 0, 0, 0, 0,\n",
       "       0, 0, 0, 1, 0, 0, 1, 0], dtype=int64)"
      ]
     },
     "execution_count": 101,
     "metadata": {},
     "output_type": "execute_result"
    }
   ],
   "source": [
    "y_pred_grid_test"
   ]
  },
  {
   "cell_type": "code",
   "execution_count": 102,
   "id": "012df411",
   "metadata": {},
   "outputs": [
    {
     "data": {
      "text/html": [
       "<div>\n",
       "<style scoped>\n",
       "    .dataframe tbody tr th:only-of-type {\n",
       "        vertical-align: middle;\n",
       "    }\n",
       "\n",
       "    .dataframe tbody tr th {\n",
       "        vertical-align: top;\n",
       "    }\n",
       "\n",
       "    .dataframe thead th {\n",
       "        text-align: right;\n",
       "    }\n",
       "</style>\n",
       "<table border=\"1\" class=\"dataframe\">\n",
       "  <thead>\n",
       "    <tr style=\"text-align: right;\">\n",
       "      <th></th>\n",
       "      <th>ph</th>\n",
       "      <th>Hardness</th>\n",
       "      <th>Solids</th>\n",
       "      <th>Chloramines</th>\n",
       "      <th>Sulfate</th>\n",
       "      <th>Conductivity</th>\n",
       "      <th>Organic_carbon</th>\n",
       "      <th>Trihalomethanes</th>\n",
       "      <th>Turbidity</th>\n",
       "      <th>ID</th>\n",
       "    </tr>\n",
       "  </thead>\n",
       "  <tbody>\n",
       "    <tr>\n",
       "      <th>0</th>\n",
       "      <td>NaN</td>\n",
       "      <td>183.521107</td>\n",
       "      <td>20461.252710</td>\n",
       "      <td>7.333212</td>\n",
       "      <td>333.119476</td>\n",
       "      <td>356.369022</td>\n",
       "      <td>20.179029</td>\n",
       "      <td>67.019903</td>\n",
       "      <td>4.886634</td>\n",
       "      <td>2947</td>\n",
       "    </tr>\n",
       "    <tr>\n",
       "      <th>1</th>\n",
       "      <td>6.643159</td>\n",
       "      <td>188.913541</td>\n",
       "      <td>32873.820022</td>\n",
       "      <td>6.791509</td>\n",
       "      <td>333.848842</td>\n",
       "      <td>336.561501</td>\n",
       "      <td>14.706810</td>\n",
       "      <td>67.844849</td>\n",
       "      <td>4.562198</td>\n",
       "      <td>2782</td>\n",
       "    </tr>\n",
       "    <tr>\n",
       "      <th>2</th>\n",
       "      <td>7.846058</td>\n",
       "      <td>224.058877</td>\n",
       "      <td>23264.109968</td>\n",
       "      <td>5.922367</td>\n",
       "      <td>300.402620</td>\n",
       "      <td>387.971336</td>\n",
       "      <td>13.406737</td>\n",
       "      <td>43.075186</td>\n",
       "      <td>2.487969</td>\n",
       "      <td>1644</td>\n",
       "    </tr>\n",
       "    <tr>\n",
       "      <th>3</th>\n",
       "      <td>7.160467</td>\n",
       "      <td>183.089310</td>\n",
       "      <td>6743.346066</td>\n",
       "      <td>3.803036</td>\n",
       "      <td>277.599099</td>\n",
       "      <td>428.036344</td>\n",
       "      <td>9.799625</td>\n",
       "      <td>90.035374</td>\n",
       "      <td>3.884891</td>\n",
       "      <td>70</td>\n",
       "    </tr>\n",
       "    <tr>\n",
       "      <th>4</th>\n",
       "      <td>6.615350</td>\n",
       "      <td>179.240661</td>\n",
       "      <td>26392.863612</td>\n",
       "      <td>9.309160</td>\n",
       "      <td>NaN</td>\n",
       "      <td>496.363562</td>\n",
       "      <td>12.786595</td>\n",
       "      <td>78.262369</td>\n",
       "      <td>4.453443</td>\n",
       "      <td>2045</td>\n",
       "    </tr>\n",
       "  </tbody>\n",
       "</table>\n",
       "</div>"
      ],
      "text/plain": [
       "         ph    Hardness        Solids  Chloramines     Sulfate  Conductivity  \\\n",
       "0       NaN  183.521107  20461.252710     7.333212  333.119476    356.369022   \n",
       "1  6.643159  188.913541  32873.820022     6.791509  333.848842    336.561501   \n",
       "2  7.846058  224.058877  23264.109968     5.922367  300.402620    387.971336   \n",
       "3  7.160467  183.089310   6743.346066     3.803036  277.599099    428.036344   \n",
       "4  6.615350  179.240661  26392.863612     9.309160         NaN    496.363562   \n",
       "\n",
       "   Organic_carbon  Trihalomethanes  Turbidity    ID  \n",
       "0       20.179029        67.019903   4.886634  2947  \n",
       "1       14.706810        67.844849   4.562198  2782  \n",
       "2       13.406737        43.075186   2.487969  1644  \n",
       "3        9.799625        90.035374   3.884891    70  \n",
       "4       12.786595        78.262369   4.453443  2045  "
      ]
     },
     "execution_count": 102,
     "metadata": {},
     "output_type": "execute_result"
    }
   ],
   "source": [
    "test_df.head()"
   ]
  },
  {
   "cell_type": "code",
   "execution_count": 103,
   "id": "6daa60ae",
   "metadata": {},
   "outputs": [
    {
     "name": "stdout",
     "output_type": "stream",
     "text": [
      "<class 'pandas.core.frame.DataFrame'>\n",
      "RangeIndex: 819 entries, 0 to 818\n",
      "Data columns (total 10 columns):\n",
      " #   Column           Non-Null Count  Dtype  \n",
      "---  ------           --------------  -----  \n",
      " 0   ph               700 non-null    float64\n",
      " 1   Hardness         819 non-null    float64\n",
      " 2   Solids           819 non-null    float64\n",
      " 3   Chloramines      819 non-null    float64\n",
      " 4   Sulfate          639 non-null    float64\n",
      " 5   Conductivity     819 non-null    float64\n",
      " 6   Organic_carbon   819 non-null    float64\n",
      " 7   Trihalomethanes  775 non-null    float64\n",
      " 8   Turbidity        819 non-null    float64\n",
      " 9   ID               819 non-null    int64  \n",
      "dtypes: float64(9), int64(1)\n",
      "memory usage: 64.1 KB\n"
     ]
    }
   ],
   "source": [
    "test_df.info()"
   ]
  },
  {
   "cell_type": "code",
   "execution_count": 105,
   "id": "5b212164",
   "metadata": {},
   "outputs": [
    {
     "data": {
      "text/plain": [
       "ph                 119\n",
       "Hardness             0\n",
       "Solids               0\n",
       "Chloramines          0\n",
       "Sulfate            180\n",
       "Conductivity         0\n",
       "Organic_carbon       0\n",
       "Trihalomethanes     44\n",
       "Turbidity            0\n",
       "ID                   0\n",
       "dtype: int64"
      ]
     },
     "execution_count": 105,
     "metadata": {},
     "output_type": "execute_result"
    }
   ],
   "source": [
    "test_df.isna().sum()"
   ]
  },
  {
   "cell_type": "code",
   "execution_count": 106,
   "id": "6f14045c",
   "metadata": {},
   "outputs": [],
   "source": [
    "test_df.fillna(test_df.mean(), inplace = True)"
   ]
  },
  {
   "cell_type": "code",
   "execution_count": 107,
   "id": "6bb08459",
   "metadata": {},
   "outputs": [
    {
     "name": "stdout",
     "output_type": "stream",
     "text": [
      "<class 'pandas.core.frame.DataFrame'>\n",
      "RangeIndex: 819 entries, 0 to 818\n",
      "Data columns (total 10 columns):\n",
      " #   Column           Non-Null Count  Dtype  \n",
      "---  ------           --------------  -----  \n",
      " 0   ph               819 non-null    float64\n",
      " 1   Hardness         819 non-null    float64\n",
      " 2   Solids           819 non-null    float64\n",
      " 3   Chloramines      819 non-null    float64\n",
      " 4   Sulfate          819 non-null    float64\n",
      " 5   Conductivity     819 non-null    float64\n",
      " 6   Organic_carbon   819 non-null    float64\n",
      " 7   Trihalomethanes  819 non-null    float64\n",
      " 8   Turbidity        819 non-null    float64\n",
      " 9   ID               819 non-null    int64  \n",
      "dtypes: float64(9), int64(1)\n",
      "memory usage: 64.1 KB\n"
     ]
    }
   ],
   "source": [
    "test_df.info()"
   ]
  },
  {
   "cell_type": "code",
   "execution_count": 108,
   "id": "8216ea31",
   "metadata": {},
   "outputs": [],
   "source": [
    "test_water = test_df.iloc[:, 0:9]"
   ]
  },
  {
   "cell_type": "code",
   "execution_count": 110,
   "id": "439207d4",
   "metadata": {},
   "outputs": [],
   "source": [
    "predicted_test = grid_search_dt.predict(test_water)"
   ]
  },
  {
   "cell_type": "code",
   "execution_count": 111,
   "id": "31f083ea",
   "metadata": {},
   "outputs": [
    {
     "data": {
      "text/plain": [
       "array([1, 1, 0, 1, 0, 0, 1, 0, 1, 0, 0, 0, 0, 1, 0, 0, 0, 0, 0, 1, 0, 1,\n",
       "       0, 0, 0, 1, 0, 0, 1, 0, 1, 0, 0, 0, 0, 0, 0, 0, 0, 1, 0, 0, 1, 0,\n",
       "       0, 0, 0, 0, 0, 0, 0, 0, 1, 1, 1, 0, 0, 1, 0, 0, 1, 1, 0, 0, 0, 1,\n",
       "       0, 1, 0, 1, 0, 1, 0, 1, 0, 1, 0, 1, 0, 0, 0, 0, 1, 1, 0, 0, 1, 0,\n",
       "       0, 0, 0, 0, 0, 0, 0, 1, 1, 0, 0, 0, 0, 0, 1, 0, 0, 0, 1, 1, 0, 1,\n",
       "       0, 1, 0, 0, 0, 0, 1, 1, 0, 1, 0, 0, 1, 0, 0, 0, 1, 0, 0, 1, 0, 1,\n",
       "       1, 0, 0, 0, 1, 0, 0, 0, 0, 0, 1, 0, 1, 0, 1, 0, 1, 1, 0, 0, 0, 0,\n",
       "       1, 1, 0, 0, 1, 0, 1, 0, 0, 1, 0, 0, 0, 1, 0, 0, 1, 1, 1, 0, 1, 1,\n",
       "       1, 0, 0, 1, 0, 1, 1, 0, 1, 0, 0, 0, 1, 0, 1, 1, 0, 0, 1, 0, 0, 1,\n",
       "       0, 0, 1, 0, 0, 0, 1, 0, 1, 1, 1, 1, 1, 0, 1, 1, 0, 1, 0, 1, 0, 1,\n",
       "       0, 1, 0, 0, 1, 0, 0, 0, 0, 1, 0, 0, 1, 0, 1, 0, 1, 1, 0, 1, 0, 1,\n",
       "       0, 0, 1, 0, 0, 0, 0, 1, 0, 0, 1, 0, 1, 1, 0, 0, 0, 1, 1, 1, 0, 1,\n",
       "       0, 1, 1, 1, 0, 1, 1, 0, 0, 0, 0, 0, 1, 1, 0, 0, 0, 0, 1, 0, 1, 1,\n",
       "       0, 0, 0, 1, 1, 0, 1, 0, 1, 0, 1, 1, 0, 1, 0, 1, 0, 1, 0, 1, 1, 0,\n",
       "       0, 1, 0, 0, 1, 0, 1, 0, 1, 1, 1, 0, 0, 0, 1, 1, 0, 0, 1, 1, 1, 0,\n",
       "       0, 1, 1, 1, 0, 0, 1, 0, 0, 0, 0, 0, 1, 1, 0, 1, 0, 0, 0, 0, 1, 1,\n",
       "       0, 0, 0, 1, 1, 0, 1, 0, 1, 1, 1, 0, 1, 1, 0, 1, 0, 1, 1, 0, 0, 1,\n",
       "       1, 1, 1, 0, 1, 0, 0, 0, 1, 0, 1, 1, 1, 0, 0, 0, 0, 0, 0, 0, 0, 0,\n",
       "       1, 0, 0, 0, 0, 1, 0, 0, 0, 0, 1, 0, 0, 0, 0, 0, 1, 1, 0, 0, 0, 0,\n",
       "       0, 1, 0, 0, 1, 0, 1, 1, 0, 1, 0, 0, 0, 0, 1, 1, 0, 0, 0, 0, 0, 0,\n",
       "       0, 1, 1, 1, 1, 0, 0, 1, 0, 0, 0, 1, 0, 0, 1, 1, 0, 1, 0, 0, 1, 0,\n",
       "       0, 1, 0, 0, 1, 0, 0, 0, 0, 0, 1, 1, 1, 0, 0, 1, 1, 1, 1, 1, 0, 1,\n",
       "       1, 0, 1, 0, 0, 0, 0, 1, 0, 0, 1, 0, 0, 1, 0, 0, 0, 1, 0, 1, 0, 0,\n",
       "       0, 0, 0, 0, 0, 0, 0, 0, 1, 1, 0, 0, 1, 0, 0, 1, 0, 0, 1, 0, 1, 1,\n",
       "       0, 1, 0, 0, 0, 0, 0, 0, 0, 0, 1, 1, 1, 0, 0, 1, 1, 1, 0, 1, 0, 0,\n",
       "       0, 1, 1, 0, 0, 0, 0, 1, 0, 0, 0, 0, 0, 1, 0, 0, 0, 0, 0, 0, 1, 1,\n",
       "       0, 1, 1, 1, 1, 0, 0, 0, 1, 1, 1, 1, 0, 1, 1, 0, 1, 1, 0, 1, 0, 1,\n",
       "       1, 0, 0, 0, 1, 0, 1, 0, 1, 0, 1, 1, 0, 1, 0, 1, 1, 0, 1, 0, 1, 0,\n",
       "       0, 1, 1, 0, 1, 0, 1, 0, 1, 0, 1, 0, 1, 1, 1, 0, 0, 1, 0, 0, 0, 1,\n",
       "       0, 0, 1, 0, 1, 1, 0, 0, 0, 0, 0, 1, 0, 0, 0, 1, 1, 1, 0, 0, 0, 1,\n",
       "       1, 0, 0, 0, 1, 0, 1, 1, 1, 1, 0, 0, 0, 1, 1, 0, 0, 1, 0, 0, 0, 0,\n",
       "       0, 0, 0, 0, 0, 1, 0, 0, 0, 0, 0, 0, 0, 0, 0, 0, 1, 0, 0, 0, 1, 1,\n",
       "       0, 0, 1, 1, 0, 0, 0, 1, 0, 1, 1, 0, 0, 0, 1, 1, 0, 0, 0, 1, 1, 1,\n",
       "       1, 1, 1, 0, 0, 0, 1, 0, 0, 1, 0, 0, 1, 0, 0, 1, 0, 0, 0, 0, 1, 0,\n",
       "       1, 1, 0, 0, 1, 1, 0, 1, 0, 0, 0, 0, 0, 0, 0, 1, 0, 0, 1, 0, 1, 1,\n",
       "       0, 0, 0, 0, 0, 0, 0, 0, 0, 0, 0, 0, 1, 0, 0, 0, 1, 1, 1, 0, 0, 1,\n",
       "       1, 0, 0, 0, 0, 0, 0, 0, 0, 0, 1, 0, 0, 0, 0, 0, 1, 0, 0, 0, 0, 0,\n",
       "       0, 1, 1, 0, 0], dtype=int64)"
      ]
     },
     "execution_count": 111,
     "metadata": {},
     "output_type": "execute_result"
    }
   ],
   "source": [
    "predicted_test"
   ]
  },
  {
   "cell_type": "code",
   "execution_count": 117,
   "id": "bbf0c872",
   "metadata": {},
   "outputs": [],
   "source": [
    "test_water['Potability'] = predicted_test"
   ]
  },
  {
   "cell_type": "code",
   "execution_count": 118,
   "id": "3358f675",
   "metadata": {},
   "outputs": [
    {
     "data": {
      "text/html": [
       "<div>\n",
       "<style scoped>\n",
       "    .dataframe tbody tr th:only-of-type {\n",
       "        vertical-align: middle;\n",
       "    }\n",
       "\n",
       "    .dataframe tbody tr th {\n",
       "        vertical-align: top;\n",
       "    }\n",
       "\n",
       "    .dataframe thead th {\n",
       "        text-align: right;\n",
       "    }\n",
       "</style>\n",
       "<table border=\"1\" class=\"dataframe\">\n",
       "  <thead>\n",
       "    <tr style=\"text-align: right;\">\n",
       "      <th></th>\n",
       "      <th>ph</th>\n",
       "      <th>Hardness</th>\n",
       "      <th>Solids</th>\n",
       "      <th>Chloramines</th>\n",
       "      <th>Sulfate</th>\n",
       "      <th>Conductivity</th>\n",
       "      <th>Organic_carbon</th>\n",
       "      <th>Trihalomethanes</th>\n",
       "      <th>Turbidity</th>\n",
       "      <th>Potability</th>\n",
       "    </tr>\n",
       "  </thead>\n",
       "  <tbody>\n",
       "    <tr>\n",
       "      <th>0</th>\n",
       "      <td>7.050005</td>\n",
       "      <td>183.521107</td>\n",
       "      <td>20461.252710</td>\n",
       "      <td>7.333212</td>\n",
       "      <td>333.119476</td>\n",
       "      <td>356.369022</td>\n",
       "      <td>20.179029</td>\n",
       "      <td>67.019903</td>\n",
       "      <td>4.886634</td>\n",
       "      <td>1</td>\n",
       "    </tr>\n",
       "    <tr>\n",
       "      <th>1</th>\n",
       "      <td>6.643159</td>\n",
       "      <td>188.913541</td>\n",
       "      <td>32873.820022</td>\n",
       "      <td>6.791509</td>\n",
       "      <td>333.848842</td>\n",
       "      <td>336.561501</td>\n",
       "      <td>14.706810</td>\n",
       "      <td>67.844849</td>\n",
       "      <td>4.562198</td>\n",
       "      <td>1</td>\n",
       "    </tr>\n",
       "    <tr>\n",
       "      <th>2</th>\n",
       "      <td>7.846058</td>\n",
       "      <td>224.058877</td>\n",
       "      <td>23264.109968</td>\n",
       "      <td>5.922367</td>\n",
       "      <td>300.402620</td>\n",
       "      <td>387.971336</td>\n",
       "      <td>13.406737</td>\n",
       "      <td>43.075186</td>\n",
       "      <td>2.487969</td>\n",
       "      <td>0</td>\n",
       "    </tr>\n",
       "    <tr>\n",
       "      <th>3</th>\n",
       "      <td>7.160467</td>\n",
       "      <td>183.089310</td>\n",
       "      <td>6743.346066</td>\n",
       "      <td>3.803036</td>\n",
       "      <td>277.599099</td>\n",
       "      <td>428.036344</td>\n",
       "      <td>9.799625</td>\n",
       "      <td>90.035374</td>\n",
       "      <td>3.884891</td>\n",
       "      <td>1</td>\n",
       "    </tr>\n",
       "    <tr>\n",
       "      <th>4</th>\n",
       "      <td>6.615350</td>\n",
       "      <td>179.240661</td>\n",
       "      <td>26392.863612</td>\n",
       "      <td>9.309160</td>\n",
       "      <td>333.413519</td>\n",
       "      <td>496.363562</td>\n",
       "      <td>12.786595</td>\n",
       "      <td>78.262369</td>\n",
       "      <td>4.453443</td>\n",
       "      <td>0</td>\n",
       "    </tr>\n",
       "  </tbody>\n",
       "</table>\n",
       "</div>"
      ],
      "text/plain": [
       "         ph    Hardness        Solids  Chloramines     Sulfate  Conductivity  \\\n",
       "0  7.050005  183.521107  20461.252710     7.333212  333.119476    356.369022   \n",
       "1  6.643159  188.913541  32873.820022     6.791509  333.848842    336.561501   \n",
       "2  7.846058  224.058877  23264.109968     5.922367  300.402620    387.971336   \n",
       "3  7.160467  183.089310   6743.346066     3.803036  277.599099    428.036344   \n",
       "4  6.615350  179.240661  26392.863612     9.309160  333.413519    496.363562   \n",
       "\n",
       "   Organic_carbon  Trihalomethanes  Turbidity  Potability  \n",
       "0       20.179029        67.019903   4.886634           1  \n",
       "1       14.706810        67.844849   4.562198           1  \n",
       "2       13.406737        43.075186   2.487969           0  \n",
       "3        9.799625        90.035374   3.884891           1  \n",
       "4       12.786595        78.262369   4.453443           0  "
      ]
     },
     "execution_count": 118,
     "metadata": {},
     "output_type": "execute_result"
    }
   ],
   "source": [
    "test_water.head()"
   ]
  },
  {
   "cell_type": "code",
   "execution_count": 121,
   "id": "5d4ee390",
   "metadata": {},
   "outputs": [],
   "source": [
    "test_water.to_csv('Submission_water.csv', index = False, header = False)"
   ]
  },
  {
   "cell_type": "code",
   "execution_count": null,
   "id": "e4f44f2e",
   "metadata": {},
   "outputs": [],
   "source": []
  },
  {
   "cell_type": "code",
   "execution_count": null,
   "id": "f571c125",
   "metadata": {},
   "outputs": [],
   "source": []
  },
  {
   "cell_type": "code",
   "execution_count": null,
   "id": "1c00388b",
   "metadata": {},
   "outputs": [],
   "source": []
  },
  {
   "cell_type": "code",
   "execution_count": null,
   "id": "15ebe6bb",
   "metadata": {},
   "outputs": [],
   "source": []
  },
  {
   "cell_type": "code",
   "execution_count": null,
   "id": "245559f2",
   "metadata": {},
   "outputs": [],
   "source": []
  }
 ],
 "metadata": {
  "kernelspec": {
   "display_name": "Python 3 (ipykernel)",
   "language": "python",
   "name": "python3"
  },
  "language_info": {
   "codemirror_mode": {
    "name": "ipython",
    "version": 3
   },
   "file_extension": ".py",
   "mimetype": "text/x-python",
   "name": "python",
   "nbconvert_exporter": "python",
   "pygments_lexer": "ipython3",
   "version": "3.9.13"
  }
 },
 "nbformat": 4,
 "nbformat_minor": 5
}
